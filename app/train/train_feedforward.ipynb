{
 "metadata": {
  "language_info": {
   "codemirror_mode": {
    "name": "ipython",
    "version": 3
   },
   "file_extension": ".py",
   "mimetype": "text/x-python",
   "name": "python",
   "nbconvert_exporter": "python",
   "pygments_lexer": "ipython3",
   "version": "3.6.10-final"
  },
  "orig_nbformat": 2,
  "kernelspec": {
   "name": "python_defaultSpec_1599816694828",
   "display_name": "Python 3.6.10 64-bit ('pytor1.12': conda)"
  }
 },
 "nbformat": 4,
 "nbformat_minor": 2,
 "cells": [
  {
   "cell_type": "code",
   "execution_count": 1,
   "metadata": {},
   "outputs": [],
   "source": [
    "import numpy as np\n",
    "import torch\n",
    "import torch.nn as nn\n",
    "import torchvision\n",
    "from torchvision.datasets import MNIST "
   ]
  },
  {
   "cell_type": "code",
   "execution_count": 2,
   "metadata": {
    "tags": []
   },
   "outputs": [],
   "source": [
    "dataset = MNIST(root='assets/', train=True , download=True , transform=torchvision.transforms.ToTensor())"
   ]
  },
  {
   "cell_type": "code",
   "execution_count": 3,
   "metadata": {},
   "outputs": [
    {
     "output_type": "execute_result",
     "data": {
      "text/plain": "Dataset MNIST\n    Number of datapoints: 60000\n    Root location: assets/\n    Split: Train\n    StandardTransform\nTransform: ToTensor()"
     },
     "metadata": {},
     "execution_count": 3
    }
   ],
   "source": [
    "dataset"
   ]
  },
  {
   "cell_type": "code",
   "execution_count": 4,
   "metadata": {},
   "outputs": [
    {
     "output_type": "execute_result",
     "data": {
      "text/plain": "(torch.Size([1, 28, 28]), 5)"
     },
     "metadata": {},
     "execution_count": 4
    }
   ],
   "source": [
    "image , label = dataset[0]\n",
    "image.shape , label"
   ]
  },
  {
   "cell_type": "markdown",
   "metadata": {},
   "source": [
    "## I am planning on 50000 training images and 10000 validation images. Along with that 10000 images for testing the model."
   ]
  },
  {
   "cell_type": "code",
   "execution_count": 5,
   "metadata": {},
   "outputs": [],
   "source": [
    "from torch.utils.data import random_split"
   ]
  },
  {
   "cell_type": "code",
   "execution_count": 6,
   "metadata": {},
   "outputs": [
    {
     "output_type": "execute_result",
     "data": {
      "text/plain": "(50000, 10000)"
     },
     "metadata": {},
     "execution_count": 6
    }
   ],
   "source": [
    "trainDataSet , validDataSet = random_split(dataset , [50000 , 10000])\n",
    "len(trainDataSet) , len(validDataSet)"
   ]
  },
  {
   "cell_type": "code",
   "execution_count": 12,
   "metadata": {},
   "outputs": [
    {
     "output_type": "execute_result",
     "data": {
      "text/plain": "10000"
     },
     "metadata": {},
     "execution_count": 12
    }
   ],
   "source": [
    "test_dataset = MNIST(root='assets/' , train=False , download=True , transform=torchvision.transforms.ToTensor())\n",
    "len(test_dataset)"
   ]
  },
  {
   "cell_type": "markdown",
   "metadata": {},
   "source": [
    "## Lets check a few images from the dataset"
   ]
  },
  {
   "cell_type": "code",
   "execution_count": 8,
   "metadata": {
    "tags": []
   },
   "outputs": [
    {
     "output_type": "stream",
     "name": "stdout",
     "text": "label:  6\n"
    },
    {
     "output_type": "display_data",
     "data": {
      "text/plain": "<Figure size 432x288 with 1 Axes>",
      "image/svg+xml": "<?xml version=\"1.0\" encoding=\"utf-8\" standalone=\"no\"?>\n<!DOCTYPE svg PUBLIC \"-//W3C//DTD SVG 1.1//EN\"\n  \"http://www.w3.org/Graphics/SVG/1.1/DTD/svg11.dtd\">\n<!-- Created with matplotlib (https://matplotlib.org/) -->\n<svg height=\"248.518125pt\" version=\"1.1\" viewBox=\"0 0 251.565 248.518125\" width=\"251.565pt\" xmlns=\"http://www.w3.org/2000/svg\" xmlns:xlink=\"http://www.w3.org/1999/xlink\">\n <metadata>\n  <rdf:RDF xmlns:cc=\"http://creativecommons.org/ns#\" xmlns:dc=\"http://purl.org/dc/elements/1.1/\" xmlns:rdf=\"http://www.w3.org/1999/02/22-rdf-syntax-ns#\">\n   <cc:Work>\n    <dc:type rdf:resource=\"http://purl.org/dc/dcmitype/StillImage\"/>\n    <dc:date>2020-09-11T09:01:06.686153</dc:date>\n    <dc:format>image/svg+xml</dc:format>\n    <dc:creator>\n     <cc:Agent>\n      <dc:title>Matplotlib v3.3.1, https://matplotlib.org/</dc:title>\n     </cc:Agent>\n    </dc:creator>\n   </cc:Work>\n  </rdf:RDF>\n </metadata>\n <defs>\n  <style type=\"text/css\">*{stroke-linecap:butt;stroke-linejoin:round;}</style>\n </defs>\n <g id=\"figure_1\">\n  <g id=\"patch_1\">\n   <path d=\"M 0 248.518125 \nL 251.565 248.518125 \nL 251.565 0 \nL 0 0 \nz\n\" style=\"fill:none;\"/>\n  </g>\n  <g id=\"axes_1\">\n   <g id=\"patch_2\">\n    <path d=\"M 26.925 224.64 \nL 244.365 224.64 \nL 244.365 7.2 \nL 26.925 7.2 \nz\n\" style=\"fill:#ffffff;\"/>\n   </g>\n   <g clip-path=\"url(#p3df87968e2)\">\n    <image height=\"218\" id=\"imageef71d41d12\" transform=\"scale(1 -1)translate(0 -218)\" width=\"218\" x=\"26.925\" xlink:href=\"data:image/png;base64,\niVBORw0KGgoAAAANSUhEUgAAANoAAADaCAYAAADAHVzbAAAFmUlEQVR4nO3dL2jUfxzH8ZuIYDALc4JhHoZZ1OiyYFIRsYnIYILFYLIIMwo2y1CwaRVdMRiEYfAfiEFdGQ6ngmAxGGS/ZPy+77f77l53Ox+P+uLuviBPP7Av37uJTqez0QEGasewLwD+BUKDAKFBgNAgQGgQIDQIEBoECA0ChAYBQoMAoUGA0CBAaBAgNAgQGgQIDQKEBgFCgwChQYDQIEBoECA0CBAaBAgNAoQGAUKDAKFBgNAgQGgQIDQIEBoECA0ChAYBQoMAoUGA0CBAaBAgNAgQGgQIDQKEBgFCgwChQYDQIEBoECA0CNg57AvYrmZmZsr9woULjdvc3Fz52j179pT7xsZGufeyuLjYuH379q187Z07d8r9+/fvfV3TuHOiQYDQIEBoECA0CBAaBAgNAoQGAROdTqfdTZkx1es+2ePHj8t9amqq78+emJgo97b30dp89rt378r97Nmz5b6ysrLpaxoHTjQIEBoECA0ChAYBQoMAoUGAP+83ePToUbmfPHmy7/deWloq9263W+7T09N9f3YvbW8t/Pjxo9wPHz7cuI3zIzZONAgQGgQIDQKEBgFCgwChQYDQIMB9tAa97hetra2V++nTpxu3t2/flq89f/58ud+/f7/c2xj0IzoLCwuN240bN1q99yhzokGA0CBAaBAgNAgQGgQIDQKEBgH/7H20q1evlvutW7fKfXl5udxnZ2c3fU1/TU5OlvuHDx/Kfffu3X1/9jC/6m7nzvH9FTEnGgQIDQKEBgFCgwChQYDQIEBoEDC+Ny62sS9fvpT73bt3y/3KlStbeTlb6smTJ8O+hKFwokGA0CBAaBAgNAgQGgQIDQL8eX8bevDgQbmP8p/3jxw5MuxLGAonGgQIDQKEBgFCgwChQYDQIEBoEOA+WoMdO+r/g44dO1bu1f2i169f93VNf71586bc7927V+6XLl1q3Hp93VxbX79+Hej7jyonGgQIDQKEBgFCgwChQYDQIEBoEPDP/mxTL3/+/Cn3Xj9fVH2t2pkzZ1p9dlvv379v3A4dOlS+tu3PNi0uLjZuly9fbvXeo8yJBgFCgwChQYDQIEBoECA0CBAaBLiP1qDtfbTKgQMHyn1tba3v9/4/ut1u4/bs2bPytXv37m312evr643b/v37W733KHOiQYDQIEBoECA0CBAaBAgNAoQGAb7XscHDhw/L/dy5c32/9/Xr18t90M9lffz4sXE7ceJE+drqObtOp9PZt29fud+8ebPcx5UTDQKEBgFCgwChQYDQIEBoEOAxmQa9Htl4+vRpuR88eLDvz56fny/36ivbBm1mZqbcL168WO4LCwuN28+fP/u5pG3BiQYBQoMAoUGA0CBAaBAgNAgQGgS4j9ano0ePlvvz588bt127dpWvvXbtWrnfvn273Bk9TjQIEBoECA0ChAYBQoMAoUGA0CDA18316dWrV+W+tLTUuJ06dWqLr4ZR50SDAKFBgNAgQGgQIDQIEBoECA0C3EcbkOpnn3rdR2vznZCMJicaBAgNAoQGAUKDAKFBgNAgQGgQ4D7agHz69Klx+/XrV/naubm5cl9fXy/36jfIGA4nGgQIDQKEBgFCgwChQYDQIMDPNg3B6upquU9NTZX78vJyuc/Ozm76mhgsJxoECA0ChAYBQoMAoUGA0CBAaBDgMZkh6PWYS6/7aN1ut9ynp6fLfWVlpdzZek40CBAaBAgNAoQGAUKDAKFBgNAgwPNoQzA5OVnunz9/LveNjfqf7Pjx4+X+4sWLcmfrOdEgQGgQIDQIEBoECA0ChAYBQoMA99FG0MuXL8u97X20379/b/qaaMeJBgFCgwChQYDQIEBoECA0CPDnfQhwokGA0CBAaBAgNAgQGgQIDQKEBgFCgwChQYDQIEBoECA0CBAaBAgNAoQGAf8B5XPja/u/MI4AAAAASUVORK5CYII=\" y=\"-6.64\"/>\n   </g>\n   <g id=\"matplotlib.axis_1\">\n    <g id=\"xtick_1\">\n     <g id=\"line2d_1\">\n      <defs>\n       <path d=\"M 0 0 \nL 0 3.5 \n\" id=\"mcdf5ab6771\" style=\"stroke:#000000;stroke-width:0.8;\"/>\n      </defs>\n      <g>\n       <use style=\"stroke:#000000;stroke-width:0.8;\" x=\"30.807857\" xlink:href=\"#mcdf5ab6771\" y=\"224.64\"/>\n      </g>\n     </g>\n     <g id=\"text_1\">\n      <!-- 0 -->\n      <g transform=\"translate(27.626607 239.238437)scale(0.1 -0.1)\">\n       <defs>\n        <path d=\"M 31.78125 66.40625 \nQ 24.171875 66.40625 20.328125 58.90625 \nQ 16.5 51.421875 16.5 36.375 \nQ 16.5 21.390625 20.328125 13.890625 \nQ 24.171875 6.390625 31.78125 6.390625 \nQ 39.453125 6.390625 43.28125 13.890625 \nQ 47.125 21.390625 47.125 36.375 \nQ 47.125 51.421875 43.28125 58.90625 \nQ 39.453125 66.40625 31.78125 66.40625 \nz\nM 31.78125 74.21875 \nQ 44.046875 74.21875 50.515625 64.515625 \nQ 56.984375 54.828125 56.984375 36.375 \nQ 56.984375 17.96875 50.515625 8.265625 \nQ 44.046875 -1.421875 31.78125 -1.421875 \nQ 19.53125 -1.421875 13.0625 8.265625 \nQ 6.59375 17.96875 6.59375 36.375 \nQ 6.59375 54.828125 13.0625 64.515625 \nQ 19.53125 74.21875 31.78125 74.21875 \nz\n\" id=\"DejaVuSans-48\"/>\n       </defs>\n       <use xlink:href=\"#DejaVuSans-48\"/>\n      </g>\n     </g>\n    </g>\n    <g id=\"xtick_2\">\n     <g id=\"line2d_2\">\n      <g>\n       <use style=\"stroke:#000000;stroke-width:0.8;\" x=\"69.636429\" xlink:href=\"#mcdf5ab6771\" y=\"224.64\"/>\n      </g>\n     </g>\n     <g id=\"text_2\">\n      <!-- 5 -->\n      <g transform=\"translate(66.455179 239.238437)scale(0.1 -0.1)\">\n       <defs>\n        <path d=\"M 10.796875 72.90625 \nL 49.515625 72.90625 \nL 49.515625 64.59375 \nL 19.828125 64.59375 \nL 19.828125 46.734375 \nQ 21.96875 47.46875 24.109375 47.828125 \nQ 26.265625 48.1875 28.421875 48.1875 \nQ 40.625 48.1875 47.75 41.5 \nQ 54.890625 34.8125 54.890625 23.390625 \nQ 54.890625 11.625 47.5625 5.09375 \nQ 40.234375 -1.421875 26.90625 -1.421875 \nQ 22.3125 -1.421875 17.546875 -0.640625 \nQ 12.796875 0.140625 7.71875 1.703125 \nL 7.71875 11.625 \nQ 12.109375 9.234375 16.796875 8.0625 \nQ 21.484375 6.890625 26.703125 6.890625 \nQ 35.15625 6.890625 40.078125 11.328125 \nQ 45.015625 15.765625 45.015625 23.390625 \nQ 45.015625 31 40.078125 35.4375 \nQ 35.15625 39.890625 26.703125 39.890625 \nQ 22.75 39.890625 18.8125 39.015625 \nQ 14.890625 38.140625 10.796875 36.28125 \nz\n\" id=\"DejaVuSans-53\"/>\n       </defs>\n       <use xlink:href=\"#DejaVuSans-53\"/>\n      </g>\n     </g>\n    </g>\n    <g id=\"xtick_3\">\n     <g id=\"line2d_3\">\n      <g>\n       <use style=\"stroke:#000000;stroke-width:0.8;\" x=\"108.465\" xlink:href=\"#mcdf5ab6771\" y=\"224.64\"/>\n      </g>\n     </g>\n     <g id=\"text_3\">\n      <!-- 10 -->\n      <g transform=\"translate(102.1025 239.238437)scale(0.1 -0.1)\">\n       <defs>\n        <path d=\"M 12.40625 8.296875 \nL 28.515625 8.296875 \nL 28.515625 63.921875 \nL 10.984375 60.40625 \nL 10.984375 69.390625 \nL 28.421875 72.90625 \nL 38.28125 72.90625 \nL 38.28125 8.296875 \nL 54.390625 8.296875 \nL 54.390625 0 \nL 12.40625 0 \nz\n\" id=\"DejaVuSans-49\"/>\n       </defs>\n       <use xlink:href=\"#DejaVuSans-49\"/>\n       <use x=\"63.623047\" xlink:href=\"#DejaVuSans-48\"/>\n      </g>\n     </g>\n    </g>\n    <g id=\"xtick_4\">\n     <g id=\"line2d_4\">\n      <g>\n       <use style=\"stroke:#000000;stroke-width:0.8;\" x=\"147.293571\" xlink:href=\"#mcdf5ab6771\" y=\"224.64\"/>\n      </g>\n     </g>\n     <g id=\"text_4\">\n      <!-- 15 -->\n      <g transform=\"translate(140.931071 239.238437)scale(0.1 -0.1)\">\n       <use xlink:href=\"#DejaVuSans-49\"/>\n       <use x=\"63.623047\" xlink:href=\"#DejaVuSans-53\"/>\n      </g>\n     </g>\n    </g>\n    <g id=\"xtick_5\">\n     <g id=\"line2d_5\">\n      <g>\n       <use style=\"stroke:#000000;stroke-width:0.8;\" x=\"186.122143\" xlink:href=\"#mcdf5ab6771\" y=\"224.64\"/>\n      </g>\n     </g>\n     <g id=\"text_5\">\n      <!-- 20 -->\n      <g transform=\"translate(179.759643 239.238437)scale(0.1 -0.1)\">\n       <defs>\n        <path d=\"M 19.1875 8.296875 \nL 53.609375 8.296875 \nL 53.609375 0 \nL 7.328125 0 \nL 7.328125 8.296875 \nQ 12.9375 14.109375 22.625 23.890625 \nQ 32.328125 33.6875 34.8125 36.53125 \nQ 39.546875 41.84375 41.421875 45.53125 \nQ 43.3125 49.21875 43.3125 52.78125 \nQ 43.3125 58.59375 39.234375 62.25 \nQ 35.15625 65.921875 28.609375 65.921875 \nQ 23.96875 65.921875 18.8125 64.3125 \nQ 13.671875 62.703125 7.8125 59.421875 \nL 7.8125 69.390625 \nQ 13.765625 71.78125 18.9375 73 \nQ 24.125 74.21875 28.421875 74.21875 \nQ 39.75 74.21875 46.484375 68.546875 \nQ 53.21875 62.890625 53.21875 53.421875 \nQ 53.21875 48.921875 51.53125 44.890625 \nQ 49.859375 40.875 45.40625 35.40625 \nQ 44.1875 33.984375 37.640625 27.21875 \nQ 31.109375 20.453125 19.1875 8.296875 \nz\n\" id=\"DejaVuSans-50\"/>\n       </defs>\n       <use xlink:href=\"#DejaVuSans-50\"/>\n       <use x=\"63.623047\" xlink:href=\"#DejaVuSans-48\"/>\n      </g>\n     </g>\n    </g>\n    <g id=\"xtick_6\">\n     <g id=\"line2d_6\">\n      <g>\n       <use style=\"stroke:#000000;stroke-width:0.8;\" x=\"224.950714\" xlink:href=\"#mcdf5ab6771\" y=\"224.64\"/>\n      </g>\n     </g>\n     <g id=\"text_6\">\n      <!-- 25 -->\n      <g transform=\"translate(218.588214 239.238437)scale(0.1 -0.1)\">\n       <use xlink:href=\"#DejaVuSans-50\"/>\n       <use x=\"63.623047\" xlink:href=\"#DejaVuSans-53\"/>\n      </g>\n     </g>\n    </g>\n   </g>\n   <g id=\"matplotlib.axis_2\">\n    <g id=\"ytick_1\">\n     <g id=\"line2d_7\">\n      <defs>\n       <path d=\"M 0 0 \nL -3.5 0 \n\" id=\"m9c63827ded\" style=\"stroke:#000000;stroke-width:0.8;\"/>\n      </defs>\n      <g>\n       <use style=\"stroke:#000000;stroke-width:0.8;\" x=\"26.925\" xlink:href=\"#m9c63827ded\" y=\"11.082857\"/>\n      </g>\n     </g>\n     <g id=\"text_7\">\n      <!-- 0 -->\n      <g transform=\"translate(13.5625 14.882076)scale(0.1 -0.1)\">\n       <use xlink:href=\"#DejaVuSans-48\"/>\n      </g>\n     </g>\n    </g>\n    <g id=\"ytick_2\">\n     <g id=\"line2d_8\">\n      <g>\n       <use style=\"stroke:#000000;stroke-width:0.8;\" x=\"26.925\" xlink:href=\"#m9c63827ded\" y=\"49.911429\"/>\n      </g>\n     </g>\n     <g id=\"text_8\">\n      <!-- 5 -->\n      <g transform=\"translate(13.5625 53.710647)scale(0.1 -0.1)\">\n       <use xlink:href=\"#DejaVuSans-53\"/>\n      </g>\n     </g>\n    </g>\n    <g id=\"ytick_3\">\n     <g id=\"line2d_9\">\n      <g>\n       <use style=\"stroke:#000000;stroke-width:0.8;\" x=\"26.925\" xlink:href=\"#m9c63827ded\" y=\"88.74\"/>\n      </g>\n     </g>\n     <g id=\"text_9\">\n      <!-- 10 -->\n      <g transform=\"translate(7.2 92.539219)scale(0.1 -0.1)\">\n       <use xlink:href=\"#DejaVuSans-49\"/>\n       <use x=\"63.623047\" xlink:href=\"#DejaVuSans-48\"/>\n      </g>\n     </g>\n    </g>\n    <g id=\"ytick_4\">\n     <g id=\"line2d_10\">\n      <g>\n       <use style=\"stroke:#000000;stroke-width:0.8;\" x=\"26.925\" xlink:href=\"#m9c63827ded\" y=\"127.568571\"/>\n      </g>\n     </g>\n     <g id=\"text_10\">\n      <!-- 15 -->\n      <g transform=\"translate(7.2 131.36779)scale(0.1 -0.1)\">\n       <use xlink:href=\"#DejaVuSans-49\"/>\n       <use x=\"63.623047\" xlink:href=\"#DejaVuSans-53\"/>\n      </g>\n     </g>\n    </g>\n    <g id=\"ytick_5\">\n     <g id=\"line2d_11\">\n      <g>\n       <use style=\"stroke:#000000;stroke-width:0.8;\" x=\"26.925\" xlink:href=\"#m9c63827ded\" y=\"166.397143\"/>\n      </g>\n     </g>\n     <g id=\"text_11\">\n      <!-- 20 -->\n      <g transform=\"translate(7.2 170.196362)scale(0.1 -0.1)\">\n       <use xlink:href=\"#DejaVuSans-50\"/>\n       <use x=\"63.623047\" xlink:href=\"#DejaVuSans-48\"/>\n      </g>\n     </g>\n    </g>\n    <g id=\"ytick_6\">\n     <g id=\"line2d_12\">\n      <g>\n       <use style=\"stroke:#000000;stroke-width:0.8;\" x=\"26.925\" xlink:href=\"#m9c63827ded\" y=\"205.225714\"/>\n      </g>\n     </g>\n     <g id=\"text_12\">\n      <!-- 25 -->\n      <g transform=\"translate(7.2 209.024933)scale(0.1 -0.1)\">\n       <use xlink:href=\"#DejaVuSans-50\"/>\n       <use x=\"63.623047\" xlink:href=\"#DejaVuSans-53\"/>\n      </g>\n     </g>\n    </g>\n   </g>\n   <g id=\"patch_3\">\n    <path d=\"M 26.925 224.64 \nL 26.925 7.2 \n\" style=\"fill:none;stroke:#000000;stroke-linecap:square;stroke-linejoin:miter;stroke-width:0.8;\"/>\n   </g>\n   <g id=\"patch_4\">\n    <path d=\"M 244.365 224.64 \nL 244.365 7.2 \n\" style=\"fill:none;stroke:#000000;stroke-linecap:square;stroke-linejoin:miter;stroke-width:0.8;\"/>\n   </g>\n   <g id=\"patch_5\">\n    <path d=\"M 26.925 224.64 \nL 244.365 224.64 \n\" style=\"fill:none;stroke:#000000;stroke-linecap:square;stroke-linejoin:miter;stroke-width:0.8;\"/>\n   </g>\n   <g id=\"patch_6\">\n    <path d=\"M 26.925 7.2 \nL 244.365 7.2 \n\" style=\"fill:none;stroke:#000000;stroke-linecap:square;stroke-linejoin:miter;stroke-width:0.8;\"/>\n   </g>\n  </g>\n </g>\n <defs>\n  <clipPath id=\"p3df87968e2\">\n   <rect height=\"217.44\" width=\"217.44\" x=\"26.925\" y=\"7.2\"/>\n  </clipPath>\n </defs>\n</svg>\n",
      "image/png": "[encoded data removed]"
     },
     "metadata": {
      "needs_background": "light"
     }
    }
   ],
   "source": [
    "import matplotlib.pyplot as plt\n",
    "%matplotlib inline\n",
    "\n",
    "image , label = trainDataSet[100]\n",
    "print(\"label: \" , label)\n",
    "plt.imshow(image[0,:,:] , cmap='gray')\n",
    "plt.show()"
   ]
  },
  {
   "cell_type": "markdown",
   "metadata": {},
   "source": [
    "## We will be passing our data in batches so we have to split train and valid dataset into batches"
   ]
  },
  {
   "cell_type": "code",
   "execution_count": 9,
   "metadata": {},
   "outputs": [],
   "source": [
    "from torch.utils.data import DataLoader\n",
    "\n",
    "batch_size = 64\n",
    "\n",
    "trainBatch = DataLoader(trainDataSet , batch_size , shuffle=True)\n",
    "validBatch = DataLoader(validDataSet , batch_size , shuffle=True)"
   ]
  },
  {
   "cell_type": "code",
   "execution_count": 10,
   "metadata": {
    "tags": []
   },
   "outputs": [
    {
     "output_type": "stream",
     "name": "stdout",
     "text": "torch.Size([64, 1, 28, 28])\ntorch.Size([64])\n"
    }
   ],
   "source": [
    "#Lets check for 1 batch\n",
    "for imageBatch , labelsBatch in trainBatch:\n",
    "    print(imageBatch.shape)\n",
    "    print(labelsBatch.shape)\n",
    "    break"
   ]
  },
  {
   "cell_type": "markdown",
   "metadata": {},
   "source": [
    "## Let's create our model"
   ]
  },
  {
   "cell_type": "code",
   "execution_count": 6,
   "metadata": {},
   "outputs": [],
   "source": [
    "input_shape = 1*28*28\n",
    "hidden_shape = 512\n",
    "output_shape = 10"
   ]
  },
  {
   "cell_type": "code",
   "execution_count": 7,
   "metadata": {},
   "outputs": [],
   "source": [
    "def accuracy(preds , labels):\n",
    "    maxprob , predlabel = torch.max(preds , dim=1)\n",
    "    difference = predlabel - labels\n",
    "    count = 0\n",
    "    for i in difference:\n",
    "        if i == 0:\n",
    "            count+=1\n",
    "    return count*100/preds.size()[0]"
   ]
  },
  {
   "cell_type": "code",
   "execution_count": 8,
   "metadata": {},
   "outputs": [],
   "source": [
    "import torch.nn.functional as F\n",
    "class MNISTModel(nn.Module):\n",
    "    def __init__(self):\n",
    "        super(MNISTModel , self ).__init__()\n",
    "        self.fc1 = nn.Linear(input_shape , hidden_shape)\n",
    "        self.relu = nn.ReLU()\n",
    "        self.fc2 = nn.Linear(hidden_shape , output_shape)\n",
    "\n",
    "    def forward(self , images):\n",
    "        images = images.reshape(-1 , input_shape)\n",
    "        hidden = self.fc1(images)\n",
    "        relu = self.relu(hidden)\n",
    "        output = self.fc2(relu)\n",
    "        return output\n",
    "\n",
    "    def training_step(self , imagebatch , labelbatch):\n",
    "        #imagebatch = imagebatch.reshape(-1 , 784)\n",
    "        output = self(imagebatch)\n",
    "        loss = F.cross_entropy(output , labelbatch)\n",
    "        return loss\n",
    "\n",
    "    def validation_per_batch(self , batch):\n",
    "        images , labels = batch\n",
    "        preds = self(images)\n",
    "        loss = F.cross_entropy(preds , labels)\n",
    "        acc = accuracy(preds , labels)\n",
    "        return { 'val_loss':loss , 'val_acc':acc }\n",
    "    \n",
    "    def validation_epoch_end(self , measurements):\n",
    "        losses = [x['val_loss'] for x in measurements]\n",
    "        avg_loss = np.sum(losses)/len(losses)\n",
    "        accuracies = [x['val_acc'] for x in measurements]\n",
    "        avg_acc = np.sum(accuracies)/len(accuracies)\n",
    "        return {'val_loss':avg_loss , 'val_acc':avg_acc}\n",
    "\n",
    "    def log_output(self, epoch, result):\n",
    "        print(\"EPOCH[{0}]  Val_loss: {1}  Val_acc: {2}\".format(epoch, result['val_loss'] , result['val_acc'] ))\n",
    "\n",
    "model = MNISTModel()"
   ]
  },
  {
   "cell_type": "code",
   "execution_count": 9,
   "metadata": {},
   "outputs": [
    {
     "output_type": "execute_result",
     "data": {
      "text/plain": "[Parameter containing:\n tensor([[-0.0154,  0.0089,  0.0099,  ..., -0.0266,  0.0138, -0.0118],\n         [-0.0326,  0.0292, -0.0007,  ..., -0.0239, -0.0096, -0.0128],\n         [ 0.0079, -0.0016,  0.0277,  ..., -0.0205, -0.0260, -0.0321],\n         ...,\n         [-0.0007, -0.0159, -0.0115,  ...,  0.0305,  0.0225, -0.0099],\n         [-0.0111,  0.0143, -0.0298,  ..., -0.0277,  0.0248,  0.0139],\n         [-0.0048,  0.0038, -0.0052,  ..., -0.0182,  0.0032,  0.0201]],\n        requires_grad=True),\n Parameter containing:\n tensor([ 1.9696e-02, -3.3263e-02, -2.9376e-02,  9.1562e-03,  2.0332e-03,\n         -1.3934e-02, -1.2232e-02,  2.4662e-02, -1.3480e-02,  2.3772e-02,\n         -2.1393e-03,  2.9916e-02, -2.7851e-02,  2.1727e-02,  3.0073e-02,\n         -1.5866e-02,  5.2338e-03, -3.4744e-02, -1.8074e-02, -3.8836e-03,\n         -1.2633e-02, -1.3437e-02,  1.7075e-02,  1.5408e-02,  1.5503e-02,\n         -2.1920e-02,  2.6551e-03, -1.2974e-02,  2.8176e-02,  2.8753e-02,\n          6.8816e-04, -1.3060e-02, -2.1463e-02,  2.8853e-02, -5.3317e-03,\n         -2.4211e-02,  1.1438e-02,  2.1529e-02, -1.3510e-02,  1.9863e-02,\n         -2.4423e-02, -1.5830e-02, -2.2026e-03, -3.1424e-02, -1.9264e-02,\n         -1.9002e-02, -3.1668e-02, -2.8456e-02,  3.2536e-02, -2.7150e-03,\n         -8.1187e-03, -1.6954e-02, -6.0463e-03,  3.3446e-02,  1.3962e-02,\n          2.7158e-02,  2.1991e-02, -6.2371e-03,  1.5414e-02, -1.1456e-02,\n         -5.5084e-03, -3.0340e-02,  2.0010e-02, -1.4336e-02, -2.9278e-02,\n          2.4811e-02,  1.6211e-02, -2.2227e-02, -2.5531e-02, -2.6475e-02,\n          4.6181e-03, -2.5771e-02, -1.0090e-02,  3.1341e-02,  3.1661e-02,\n         -1.9995e-03,  1.6473e-02, -2.9202e-02, -2.0903e-02,  1.8120e-02,\n         -3.2954e-02, -1.9657e-02, -2.6690e-02, -3.2246e-02, -1.4384e-02,\n          1.9559e-02, -2.2831e-02, -3.2579e-03,  1.8814e-02, -1.9099e-02,\n         -9.5235e-03, -2.5328e-02,  3.1586e-02, -2.5906e-02, -3.4474e-02,\n         -1.3063e-02,  1.8159e-03,  1.7087e-02, -2.2282e-02, -1.7927e-02,\n         -3.1610e-02,  3.0249e-02,  2.7189e-02, -3.4997e-03,  3.2450e-02,\n          7.4326e-03,  1.8182e-02, -3.0989e-02,  3.3076e-02, -3.5107e-02,\n          1.5850e-02, -1.2344e-02,  6.8076e-03, -3.1656e-02,  3.0829e-02,\n         -2.3725e-03, -6.4553e-03,  6.3484e-03, -3.4217e-02, -3.4160e-02,\n          2.7552e-03, -2.5109e-02,  5.2870e-03, -1.8483e-02, -6.6631e-03,\n         -1.4238e-02,  8.4447e-03,  2.9971e-02,  2.3091e-02,  2.7091e-02,\n          2.3579e-03, -2.6423e-02,  2.3829e-02, -3.2505e-02,  2.4895e-02,\n         -2.1311e-03, -4.1761e-03,  2.2403e-02,  6.6957e-03,  1.2401e-02,\n         -3.0062e-02, -1.7721e-02, -1.7644e-02, -1.5586e-02, -7.0341e-03,\n          5.0407e-03,  3.2783e-03, -3.0353e-02, -3.0489e-02,  2.8261e-02,\n         -9.5958e-03, -2.0579e-02,  3.2058e-02,  1.9079e-02, -1.5886e-02,\n         -1.1836e-02,  1.1306e-02,  1.5995e-02,  2.5382e-02, -3.2615e-02,\n          3.1681e-02,  1.0690e-03, -1.2700e-02,  2.4499e-02, -2.6555e-03,\n         -2.5182e-02, -2.8605e-02,  2.3759e-02, -2.8191e-02, -8.7819e-04,\n          2.2731e-02, -2.1197e-02,  2.1387e-02, -2.2903e-02, -2.8869e-02,\n         -1.3468e-02, -1.3229e-03,  1.9593e-02,  1.3715e-02,  2.2160e-02,\n          1.5431e-02,  2.9385e-02,  1.7215e-02, -1.4462e-02, -9.3282e-03,\n          2.6551e-02,  2.3555e-04, -2.7488e-02, -8.1523e-03, -3.1699e-02,\n         -2.5684e-02, -2.8406e-02, -4.3187e-03,  2.8121e-02, -3.4143e-02,\n          1.6849e-02,  3.9750e-03,  1.0088e-02, -2.0441e-02, -1.9947e-02,\n          2.9289e-02,  3.4797e-02,  3.9282e-03,  3.1689e-02,  1.3531e-02,\n          1.6440e-02,  3.2821e-02, -2.1410e-03, -4.3968e-03,  2.4110e-02,\n         -2.9664e-02,  2.2952e-02, -9.9895e-03,  2.4642e-02, -2.5436e-02,\n          1.1597e-02, -2.9588e-02, -2.0167e-02, -1.0645e-02,  6.5513e-03,\n         -2.3283e-03, -1.1978e-03,  2.0929e-02,  2.9979e-02,  2.8928e-02,\n         -1.2656e-02,  2.6253e-02, -2.8652e-02, -2.8764e-02,  6.4676e-03,\n          1.8991e-02,  2.7542e-02,  3.4798e-02,  1.1744e-02, -1.3041e-02,\n         -1.4032e-02, -3.7204e-03,  3.4562e-02,  2.7500e-02, -2.1601e-02,\n          1.3955e-02, -3.3742e-02,  2.6077e-02, -1.3953e-02,  3.0500e-02,\n          2.5689e-02, -1.3826e-03,  7.9960e-03,  2.8686e-02, -3.1193e-02,\n          1.0823e-02,  1.2287e-02, -2.7445e-02,  2.8803e-02, -3.5539e-02,\n         -2.9698e-02, -1.1799e-02,  6.9764e-03, -8.4420e-04, -1.4751e-02,\n         -1.7087e-02, -1.4092e-02, -2.6401e-02, -2.2619e-02, -1.5945e-02,\n         -1.5731e-02, -2.0554e-02,  1.2406e-02,  1.1612e-02,  3.6773e-03,\n         -3.2891e-02, -2.2408e-02, -4.8057e-03,  5.5275e-03, -1.6255e-02,\n         -1.4770e-02,  1.6828e-02, -7.3038e-03, -1.2828e-02, -2.1452e-02,\n          4.4882e-03,  2.8614e-02, -1.8338e-02,  2.8882e-02,  3.7000e-03,\n          1.8751e-02, -2.3593e-03, -2.4102e-02,  2.2346e-02, -8.9343e-03,\n         -1.1401e-02, -1.4776e-02,  1.7346e-02, -1.1812e-03, -2.6127e-02,\n          3.1957e-02, -2.1940e-02,  1.7972e-03, -1.1700e-02,  1.2433e-02,\n          2.6868e-02,  2.0037e-02, -1.8207e-02, -2.6496e-02, -1.8894e-04,\n         -2.4134e-02,  9.6900e-03,  1.6655e-02,  5.0750e-03, -2.1220e-02,\n         -1.4940e-02, -2.9721e-02, -3.3359e-02,  1.6251e-02, -2.9968e-02,\n         -8.6208e-03, -1.5171e-02, -1.8938e-02,  1.1395e-02, -1.3526e-02,\n          2.2751e-02,  1.6891e-02, -2.5518e-02,  7.8956e-03, -2.2962e-02,\n         -2.8331e-02, -1.2545e-02, -1.6965e-02, -1.5199e-03,  1.6497e-02,\n          1.2886e-02, -5.7961e-03, -2.8116e-02, -2.9939e-02,  2.5902e-02,\n          1.1067e-02, -2.0269e-02, -2.6904e-02, -8.3380e-03, -1.0264e-02,\n         -2.8100e-02, -2.8707e-02,  2.9752e-02, -2.4685e-02, -2.0147e-02,\n         -3.5532e-02, -2.5065e-02,  1.0111e-02,  4.4262e-03,  2.2555e-02,\n          4.7871e-03, -5.6408e-03,  1.5450e-02, -1.2262e-02,  1.3234e-02,\n          4.7023e-03,  3.4739e-02,  7.6896e-03,  2.0568e-02, -1.7706e-05,\n          9.4782e-03, -1.6843e-03, -7.1657e-03,  3.5255e-02, -1.8336e-02,\n          1.1957e-02,  2.3571e-02, -3.3159e-02, -1.3838e-02, -3.1281e-02,\n         -2.9663e-02,  2.7209e-02,  2.4076e-02,  1.9185e-02, -1.0888e-02,\n          5.7433e-03,  5.6384e-03, -3.4315e-02,  2.5966e-02,  4.7106e-03,\n          3.3588e-02, -2.1279e-02, -3.1322e-02,  7.2499e-03,  3.0229e-02,\n          8.9178e-03,  2.0457e-02,  3.2442e-02,  3.0588e-02, -1.9629e-02,\n         -2.3157e-02,  2.0180e-02,  2.5356e-03,  2.4287e-02, -1.5871e-02,\n          2.4826e-02,  3.5671e-02,  8.6868e-03, -2.6250e-02, -1.2273e-02,\n         -4.7523e-03,  3.5581e-02,  2.5656e-02,  2.2775e-02,  2.5606e-02,\n          2.6574e-02,  3.5716e-04, -1.3763e-02,  9.6312e-03,  7.2244e-03,\n         -2.2459e-02,  1.7258e-02,  1.6920e-02,  1.0850e-02,  9.8908e-03,\n         -2.1622e-02,  2.4141e-02, -1.7753e-02, -3.2767e-02,  1.7456e-02,\n         -2.8017e-02, -2.4397e-03, -1.3724e-03,  5.5375e-03, -1.0695e-02,\n          2.7448e-02, -3.3705e-02, -3.4702e-02,  3.4009e-02,  2.2658e-02,\n         -9.1075e-03,  3.2727e-03, -6.2793e-05,  1.8178e-02,  3.3383e-02,\n         -2.9738e-02,  1.6991e-02, -2.0394e-02, -1.5458e-02, -2.8574e-02,\n          3.0572e-02, -1.0601e-02,  2.1301e-02, -3.2730e-02, -1.2375e-02,\n         -1.6352e-02, -4.7520e-03,  3.4138e-02,  2.3273e-02, -1.3414e-02,\n          1.8152e-03,  2.1939e-03, -2.0404e-02, -1.1394e-02, -7.1959e-03,\n         -1.8318e-02,  3.0938e-02,  2.2747e-02,  2.3609e-02,  1.7898e-02,\n         -2.2651e-02, -3.0863e-02, -1.3806e-02, -1.5576e-02,  3.5285e-03,\n         -1.4690e-02,  2.8042e-03,  4.9281e-03,  1.4549e-02,  1.6267e-02,\n          1.0420e-02, -4.6779e-03, -3.0911e-02, -3.0484e-02,  2.5418e-02,\n          2.5156e-02,  3.0137e-02,  3.0316e-02, -2.3451e-02, -2.2505e-02,\n          1.7366e-03,  1.7409e-02,  1.3912e-02,  5.2093e-03,  3.5604e-02,\n         -1.1886e-02, -1.0097e-02, -3.5125e-02, -2.4322e-02,  1.8124e-02,\n         -1.3694e-03, -3.2384e-02,  2.7789e-02, -6.8189e-03, -2.3029e-02,\n          3.5358e-02, -2.2277e-02, -2.7914e-02,  3.3701e-02,  3.1916e-02,\n          2.2697e-02, -1.0631e-02, -4.9838e-03, -2.5155e-02, -3.8683e-03,\n         -3.4681e-02, -8.4570e-03,  3.0268e-03,  3.1551e-02, -2.2276e-02,\n          2.6456e-02,  3.9984e-03], requires_grad=True),\n Parameter containing:\n tensor([[ 0.0170, -0.0163,  0.0117,  ..., -0.0127,  0.0384, -0.0220],\n         [-0.0103, -0.0307,  0.0341,  ..., -0.0290, -0.0053, -0.0016],\n         [-0.0156,  0.0397,  0.0132,  ..., -0.0374, -0.0332, -0.0149],\n         ...,\n         [ 0.0230,  0.0326,  0.0395,  ...,  0.0025, -0.0418, -0.0060],\n         [ 0.0210,  0.0200, -0.0104,  ..., -0.0024, -0.0220, -0.0016],\n         [-0.0332,  0.0026, -0.0125,  ..., -0.0177, -0.0189,  0.0285]],\n        requires_grad=True),\n Parameter containing:\n tensor([-0.0036,  0.0302, -0.0253, -0.0167, -0.0081, -0.0221,  0.0344,  0.0247,\n          0.0340, -0.0248], requires_grad=True)]"
     },
     "metadata": {},
     "execution_count": 9
    }
   ],
   "source": [
    "list(model.parameters())"
   ]
  },
  {
   "cell_type": "markdown",
   "metadata": {},
   "source": [
    "## Start training"
   ]
  },
  {
   "cell_type": "code",
   "execution_count": 15,
   "metadata": {},
   "outputs": [],
   "source": [
    "def evaluate(validBatch):\n",
    "    outputs = [model.validation_per_batch(batch) for batch in validBatch]\n",
    "    return model.validation_epoch_end(outputs)\n",
    "\n",
    "\n",
    "def fit(model, epoches , trainBatch , validBatch , lr , opt_fn=torch.optim.SGD):\n",
    "    history = []\n",
    "    opt = opt_fn(model.parameters() , lr)\n",
    "    for epoch in range(epochs):\n",
    "        for imageBatch , labelsBatch in trainBatch:\n",
    "            #imagebatch , labelbatch = batch\n",
    "            loss = model.training_step(imageBatch , labelsBatch)\n",
    "            loss.backward()\n",
    "            opt.step()\n",
    "            opt.zero_grad()\n",
    "            \n",
    "        result = evaluate(validBatch)\n",
    "        model.log_output(epoch , result)\n",
    "        history.append(result)\n",
    "    return history\n",
    "\n"
   ]
  },
  {
   "cell_type": "code",
   "execution_count": 16,
   "metadata": {
    "tags": []
   },
   "outputs": [
    {
     "output_type": "execute_result",
     "data": {
      "text/plain": "{'val_loss': tensor(2.2999, grad_fn=<DivBackward0>), 'val_acc': 9.375}"
     },
     "metadata": {},
     "execution_count": 16
    }
   ],
   "source": [
    "import numpy as np\n",
    "result0 = evaluate(validBatch)\n",
    "result0"
   ]
  },
  {
   "cell_type": "code",
   "execution_count": 17,
   "metadata": {
    "tags": []
   },
   "outputs": [
    {
     "output_type": "stream",
     "name": "stdout",
     "text": "EPOCH[0]  Val_loss: 2.110050916671753  Val_acc: 63.42555732484077\nEPOCH[1]  Val_loss: 1.8796898126602173  Val_acc: 72.24323248407643\nEPOCH[2]  Val_loss: 1.6066116094589233  Val_acc: 75.71656050955414\nEPOCH[3]  Val_loss: 1.3401952981948853  Val_acc: 78.42356687898089\nEPOCH[4]  Val_loss: 1.1233428716659546  Val_acc: 80.86186305732484\nEPOCH[5]  Val_loss: 0.9646518230438232  Val_acc: 82.37460191082802\nEPOCH[6]  Val_loss: 0.8500819206237793  Val_acc: 83.36982484076434\nEPOCH[7]  Val_loss: 0.7652959227561951  Val_acc: 84.30533439490446\nEPOCH[8]  Val_loss: 0.7024936676025391  Val_acc: 84.97213375796179\nEPOCH[9]  Val_loss: 0.6530417799949646  Val_acc: 85.54936305732484\nEPOCH[10]  Val_loss: 0.6128939986228943  Val_acc: 86.24601910828025\nEPOCH[11]  Val_loss: 0.5809138417243958  Val_acc: 86.5843949044586\nEPOCH[12]  Val_loss: 0.5574306845664978  Val_acc: 86.90286624203821\nEPOCH[13]  Val_loss: 0.5338557362556458  Val_acc: 87.17157643312102\nEPOCH[14]  Val_loss: 0.5135623812675476  Val_acc: 87.63933121019109\nEPOCH[15]  Val_loss: 0.4984901547431946  Val_acc: 87.86823248407643\nEPOCH[16]  Val_loss: 0.4836897552013397  Val_acc: 87.97770700636943\nEPOCH[17]  Val_loss: 0.47099921107292175  Val_acc: 88.11703821656052\nEPOCH[18]  Val_loss: 0.4595329165458679  Val_acc: 88.36584394904459\nEPOCH[19]  Val_loss: 0.44986507296562195  Val_acc: 88.34593949044586\nEPOCH[20]  Val_loss: 0.44208812713623047  Val_acc: 88.58479299363057\nEPOCH[21]  Val_loss: 0.4326174855232239  Val_acc: 88.57484076433121\nEPOCH[22]  Val_loss: 0.4258653223514557  Val_acc: 88.6046974522293\nEPOCH[23]  Val_loss: 0.4171279966831207  Val_acc: 88.81369426751593\nEPOCH[24]  Val_loss: 0.4112456440925598  Val_acc: 88.83359872611464\nEPOCH[25]  Val_loss: 0.4059400260448456  Val_acc: 88.97292993630573\nEPOCH[26]  Val_loss: 0.4003458321094513  Val_acc: 89.12221337579618\nEPOCH[27]  Val_loss: 0.3962131142616272  Val_acc: 89.11226114649682\nEPOCH[28]  Val_loss: 0.39059773087501526  Val_acc: 89.13216560509554\nEPOCH[29]  Val_loss: 0.3874908685684204  Val_acc: 89.24164012738854\nEPOCH[30]  Val_loss: 0.3824003040790558  Val_acc: 89.2217356687898\nEPOCH[31]  Val_loss: 0.38048869371414185  Val_acc: 89.31130573248407\nEPOCH[32]  Val_loss: 0.3755231201648712  Val_acc: 89.47054140127389\nEPOCH[33]  Val_loss: 0.3719593584537506  Val_acc: 89.66958598726114\nEPOCH[34]  Val_loss: 0.368522584438324  Val_acc: 89.7093949044586\nEPOCH[35]  Val_loss: 0.3674341142177582  Val_acc: 89.60987261146497\nEPOCH[36]  Val_loss: 0.36373499035835266  Val_acc: 89.7890127388535\nEPOCH[37]  Val_loss: 0.3593888282775879  Val_acc: 89.88853503184713\nEPOCH[38]  Val_loss: 0.3582996129989624  Val_acc: 89.86863057324841\nEPOCH[39]  Val_loss: 0.35657960176467896  Val_acc: 89.91839171974522\nEPOCH[40]  Val_loss: 0.3521665036678314  Val_acc: 89.9781050955414\nEPOCH[41]  Val_loss: 0.3520840108394623  Val_acc: 89.98805732484077\nEPOCH[42]  Val_loss: 0.3472577631473541  Val_acc: 90.14729299363057\nEPOCH[43]  Val_loss: 0.34537383913993835  Val_acc: 90.17714968152866\nEPOCH[44]  Val_loss: 0.34455305337905884  Val_acc: 90.18710191082802\nEPOCH[45]  Val_loss: 0.34185782074928284  Val_acc: 90.1671974522293\nEPOCH[46]  Val_loss: 0.3406519591808319  Val_acc: 90.28662420382166\nEPOCH[47]  Val_loss: 0.33746349811553955  Val_acc: 90.41600318471338\nEPOCH[48]  Val_loss: 0.3345485329627991  Val_acc: 90.47571656050955\nEPOCH[49]  Val_loss: 0.3328236937522888  Val_acc: 90.48566878980891\n"
    }
   ],
   "source": [
    "epochs = 50\n",
    "lr = 1e-3\n",
    "\n",
    "history = fit(model, epochs , trainBatch , validBatch , lr)"
   ]
  },
  {
   "cell_type": "code",
   "execution_count": 18,
   "metadata": {},
   "outputs": [
    {
     "output_type": "execute_result",
     "data": {
      "text/plain": "63.42555732484077"
     },
     "metadata": {},
     "execution_count": 18
    }
   ],
   "source": [
    "history[0]['val_acc']"
   ]
  },
  {
   "cell_type": "code",
   "execution_count": 19,
   "metadata": {},
   "outputs": [
    {
     "output_type": "display_data",
     "data": {
      "text/plain": "<Figure size 432x288 with 1 Axes>",
      "image/svg+xml": "<?xml version=\"1.0\" encoding=\"utf-8\" standalone=\"no\"?>\n<!DOCTYPE svg PUBLIC \"-//W3C//DTD SVG 1.1//EN\"\n  \"http://www.w3.org/Graphics/SVG/1.1/DTD/svg11.dtd\">\n<!-- Created with matplotlib (https://matplotlib.org/) -->\n<svg height=\"248.518125pt\" version=\"1.1\" viewBox=\"0 0 368.925 248.518125\" width=\"368.925pt\" xmlns=\"http://www.w3.org/2000/svg\" xmlns:xlink=\"http://www.w3.org/1999/xlink\">\n <metadata>\n  <rdf:RDF xmlns:cc=\"http://creativecommons.org/ns#\" xmlns:dc=\"http://purl.org/dc/elements/1.1/\" xmlns:rdf=\"http://www.w3.org/1999/02/22-rdf-syntax-ns#\">\n   <cc:Work>\n    <dc:type rdf:resource=\"http://purl.org/dc/dcmitype/StillImage\"/>\n    <dc:date>2020-09-11T09:07:25.627006</dc:date>\n    <dc:format>image/svg+xml</dc:format>\n    <dc:creator>\n     <cc:Agent>\n      <dc:title>Matplotlib v3.3.1, https://matplotlib.org/</dc:title>\n     </cc:Agent>\n    </dc:creator>\n   </cc:Work>\n  </rdf:RDF>\n </metadata>\n <defs>\n  <style type=\"text/css\">*{stroke-linecap:butt;stroke-linejoin:round;}</style>\n </defs>\n <g id=\"figure_1\">\n  <g id=\"patch_1\">\n   <path d=\"M -0 248.518125 \nL 368.925 248.518125 \nL 368.925 0 \nL -0 0 \nz\n\" style=\"fill:none;\"/>\n  </g>\n  <g id=\"axes_1\">\n   <g id=\"patch_2\">\n    <path d=\"M 26.925 224.64 \nL 361.725 224.64 \nL 361.725 7.2 \nL 26.925 7.2 \nz\n\" style=\"fill:#ffffff;\"/>\n   </g>\n   <g id=\"matplotlib.axis_1\">\n    <g id=\"xtick_1\">\n     <g id=\"line2d_1\">\n      <defs>\n       <path d=\"M 0 0 \nL 0 3.5 \n\" id=\"mf1f68c5dba\" style=\"stroke:#000000;stroke-width:0.8;\"/>\n      </defs>\n      <g>\n       <use style=\"stroke:#000000;stroke-width:0.8;\" x=\"42.143182\" xlink:href=\"#mf1f68c5dba\" y=\"224.64\"/>\n      </g>\n     </g>\n     <g id=\"text_1\">\n      <!-- 0 -->\n      <g transform=\"translate(38.961932 239.238438)scale(0.1 -0.1)\">\n       <defs>\n        <path d=\"M 31.78125 66.40625 \nQ 24.171875 66.40625 20.328125 58.90625 \nQ 16.5 51.421875 16.5 36.375 \nQ 16.5 21.390625 20.328125 13.890625 \nQ 24.171875 6.390625 31.78125 6.390625 \nQ 39.453125 6.390625 43.28125 13.890625 \nQ 47.125 21.390625 47.125 36.375 \nQ 47.125 51.421875 43.28125 58.90625 \nQ 39.453125 66.40625 31.78125 66.40625 \nz\nM 31.78125 74.21875 \nQ 44.046875 74.21875 50.515625 64.515625 \nQ 56.984375 54.828125 56.984375 36.375 \nQ 56.984375 17.96875 50.515625 8.265625 \nQ 44.046875 -1.421875 31.78125 -1.421875 \nQ 19.53125 -1.421875 13.0625 8.265625 \nQ 6.59375 17.96875 6.59375 36.375 \nQ 6.59375 54.828125 13.0625 64.515625 \nQ 19.53125 74.21875 31.78125 74.21875 \nz\n\" id=\"DejaVuSans-48\"/>\n       </defs>\n       <use xlink:href=\"#DejaVuSans-48\"/>\n      </g>\n     </g>\n    </g>\n    <g id=\"xtick_2\">\n     <g id=\"line2d_2\">\n      <g>\n       <use style=\"stroke:#000000;stroke-width:0.8;\" x=\"104.25821\" xlink:href=\"#mf1f68c5dba\" y=\"224.64\"/>\n      </g>\n     </g>\n     <g id=\"text_2\">\n      <!-- 10 -->\n      <g transform=\"translate(97.89571 239.238438)scale(0.1 -0.1)\">\n       <defs>\n        <path d=\"M 12.40625 8.296875 \nL 28.515625 8.296875 \nL 28.515625 63.921875 \nL 10.984375 60.40625 \nL 10.984375 69.390625 \nL 28.421875 72.90625 \nL 38.28125 72.90625 \nL 38.28125 8.296875 \nL 54.390625 8.296875 \nL 54.390625 0 \nL 12.40625 0 \nz\n\" id=\"DejaVuSans-49\"/>\n       </defs>\n       <use xlink:href=\"#DejaVuSans-49\"/>\n       <use x=\"63.623047\" xlink:href=\"#DejaVuSans-48\"/>\n      </g>\n     </g>\n    </g>\n    <g id=\"xtick_3\">\n     <g id=\"line2d_3\">\n      <g>\n       <use style=\"stroke:#000000;stroke-width:0.8;\" x=\"166.373237\" xlink:href=\"#mf1f68c5dba\" y=\"224.64\"/>\n      </g>\n     </g>\n     <g id=\"text_3\">\n      <!-- 20 -->\n      <g transform=\"translate(160.010737 239.238438)scale(0.1 -0.1)\">\n       <defs>\n        <path d=\"M 19.1875 8.296875 \nL 53.609375 8.296875 \nL 53.609375 0 \nL 7.328125 0 \nL 7.328125 8.296875 \nQ 12.9375 14.109375 22.625 23.890625 \nQ 32.328125 33.6875 34.8125 36.53125 \nQ 39.546875 41.84375 41.421875 45.53125 \nQ 43.3125 49.21875 43.3125 52.78125 \nQ 43.3125 58.59375 39.234375 62.25 \nQ 35.15625 65.921875 28.609375 65.921875 \nQ 23.96875 65.921875 18.8125 64.3125 \nQ 13.671875 62.703125 7.8125 59.421875 \nL 7.8125 69.390625 \nQ 13.765625 71.78125 18.9375 73 \nQ 24.125 74.21875 28.421875 74.21875 \nQ 39.75 74.21875 46.484375 68.546875 \nQ 53.21875 62.890625 53.21875 53.421875 \nQ 53.21875 48.921875 51.53125 44.890625 \nQ 49.859375 40.875 45.40625 35.40625 \nQ 44.1875 33.984375 37.640625 27.21875 \nQ 31.109375 20.453125 19.1875 8.296875 \nz\n\" id=\"DejaVuSans-50\"/>\n       </defs>\n       <use xlink:href=\"#DejaVuSans-50\"/>\n       <use x=\"63.623047\" xlink:href=\"#DejaVuSans-48\"/>\n      </g>\n     </g>\n    </g>\n    <g id=\"xtick_4\">\n     <g id=\"line2d_4\">\n      <g>\n       <use style=\"stroke:#000000;stroke-width:0.8;\" x=\"228.488265\" xlink:href=\"#mf1f68c5dba\" y=\"224.64\"/>\n      </g>\n     </g>\n     <g id=\"text_4\">\n      <!-- 30 -->\n      <g transform=\"translate(222.125765 239.238438)scale(0.1 -0.1)\">\n       <defs>\n        <path d=\"M 40.578125 39.3125 \nQ 47.65625 37.796875 51.625 33 \nQ 55.609375 28.21875 55.609375 21.1875 \nQ 55.609375 10.40625 48.1875 4.484375 \nQ 40.765625 -1.421875 27.09375 -1.421875 \nQ 22.515625 -1.421875 17.65625 -0.515625 \nQ 12.796875 0.390625 7.625 2.203125 \nL 7.625 11.71875 \nQ 11.71875 9.328125 16.59375 8.109375 \nQ 21.484375 6.890625 26.8125 6.890625 \nQ 36.078125 6.890625 40.9375 10.546875 \nQ 45.796875 14.203125 45.796875 21.1875 \nQ 45.796875 27.640625 41.28125 31.265625 \nQ 36.765625 34.90625 28.71875 34.90625 \nL 20.21875 34.90625 \nL 20.21875 43.015625 \nL 29.109375 43.015625 \nQ 36.375 43.015625 40.234375 45.921875 \nQ 44.09375 48.828125 44.09375 54.296875 \nQ 44.09375 59.90625 40.109375 62.90625 \nQ 36.140625 65.921875 28.71875 65.921875 \nQ 24.65625 65.921875 20.015625 65.03125 \nQ 15.375 64.15625 9.8125 62.3125 \nL 9.8125 71.09375 \nQ 15.4375 72.65625 20.34375 73.4375 \nQ 25.25 74.21875 29.59375 74.21875 \nQ 40.828125 74.21875 47.359375 69.109375 \nQ 53.90625 64.015625 53.90625 55.328125 \nQ 53.90625 49.265625 50.4375 45.09375 \nQ 46.96875 40.921875 40.578125 39.3125 \nz\n\" id=\"DejaVuSans-51\"/>\n       </defs>\n       <use xlink:href=\"#DejaVuSans-51\"/>\n       <use x=\"63.623047\" xlink:href=\"#DejaVuSans-48\"/>\n      </g>\n     </g>\n    </g>\n    <g id=\"xtick_5\">\n     <g id=\"line2d_5\">\n      <g>\n       <use style=\"stroke:#000000;stroke-width:0.8;\" x=\"290.603293\" xlink:href=\"#mf1f68c5dba\" y=\"224.64\"/>\n      </g>\n     </g>\n     <g id=\"text_5\">\n      <!-- 40 -->\n      <g transform=\"translate(284.240793 239.238438)scale(0.1 -0.1)\">\n       <defs>\n        <path d=\"M 37.796875 64.3125 \nL 12.890625 25.390625 \nL 37.796875 25.390625 \nz\nM 35.203125 72.90625 \nL 47.609375 72.90625 \nL 47.609375 25.390625 \nL 58.015625 25.390625 \nL 58.015625 17.1875 \nL 47.609375 17.1875 \nL 47.609375 0 \nL 37.796875 0 \nL 37.796875 17.1875 \nL 4.890625 17.1875 \nL 4.890625 26.703125 \nz\n\" id=\"DejaVuSans-52\"/>\n       </defs>\n       <use xlink:href=\"#DejaVuSans-52\"/>\n       <use x=\"63.623047\" xlink:href=\"#DejaVuSans-48\"/>\n      </g>\n     </g>\n    </g>\n    <g id=\"xtick_6\">\n     <g id=\"line2d_6\">\n      <g>\n       <use style=\"stroke:#000000;stroke-width:0.8;\" x=\"352.718321\" xlink:href=\"#mf1f68c5dba\" y=\"224.64\"/>\n      </g>\n     </g>\n     <g id=\"text_6\">\n      <!-- 50 -->\n      <g transform=\"translate(346.355821 239.238438)scale(0.1 -0.1)\">\n       <defs>\n        <path d=\"M 10.796875 72.90625 \nL 49.515625 72.90625 \nL 49.515625 64.59375 \nL 19.828125 64.59375 \nL 19.828125 46.734375 \nQ 21.96875 47.46875 24.109375 47.828125 \nQ 26.265625 48.1875 28.421875 48.1875 \nQ 40.625 48.1875 47.75 41.5 \nQ 54.890625 34.8125 54.890625 23.390625 \nQ 54.890625 11.625 47.5625 5.09375 \nQ 40.234375 -1.421875 26.90625 -1.421875 \nQ 22.3125 -1.421875 17.546875 -0.640625 \nQ 12.796875 0.140625 7.71875 1.703125 \nL 7.71875 11.625 \nQ 12.109375 9.234375 16.796875 8.0625 \nQ 21.484375 6.890625 26.703125 6.890625 \nQ 35.15625 6.890625 40.078125 11.328125 \nQ 45.015625 15.765625 45.015625 23.390625 \nQ 45.015625 31 40.078125 35.4375 \nQ 35.15625 39.890625 26.703125 39.890625 \nQ 22.75 39.890625 18.8125 39.015625 \nQ 14.890625 38.140625 10.796875 36.28125 \nz\n\" id=\"DejaVuSans-53\"/>\n       </defs>\n       <use xlink:href=\"#DejaVuSans-53\"/>\n       <use x=\"63.623047\" xlink:href=\"#DejaVuSans-48\"/>\n      </g>\n     </g>\n    </g>\n   </g>\n   <g id=\"matplotlib.axis_2\">\n    <g id=\"ytick_1\">\n     <g id=\"line2d_7\">\n      <defs>\n       <path d=\"M 0 0 \nL -3.5 0 \n\" id=\"m203a3258d1\" style=\"stroke:#000000;stroke-width:0.8;\"/>\n      </defs>\n      <g>\n       <use style=\"stroke:#000000;stroke-width:0.8;\" x=\"26.925\" xlink:href=\"#m203a3258d1\" y=\"203.255141\"/>\n      </g>\n     </g>\n     <g id=\"text_7\">\n      <!-- 65 -->\n      <g transform=\"translate(7.2 207.054359)scale(0.1 -0.1)\">\n       <defs>\n        <path d=\"M 33.015625 40.375 \nQ 26.375 40.375 22.484375 35.828125 \nQ 18.609375 31.296875 18.609375 23.390625 \nQ 18.609375 15.53125 22.484375 10.953125 \nQ 26.375 6.390625 33.015625 6.390625 \nQ 39.65625 6.390625 43.53125 10.953125 \nQ 47.40625 15.53125 47.40625 23.390625 \nQ 47.40625 31.296875 43.53125 35.828125 \nQ 39.65625 40.375 33.015625 40.375 \nz\nM 52.59375 71.296875 \nL 52.59375 62.3125 \nQ 48.875 64.0625 45.09375 64.984375 \nQ 41.3125 65.921875 37.59375 65.921875 \nQ 27.828125 65.921875 22.671875 59.328125 \nQ 17.53125 52.734375 16.796875 39.40625 \nQ 19.671875 43.65625 24.015625 45.921875 \nQ 28.375 48.1875 33.59375 48.1875 \nQ 44.578125 48.1875 50.953125 41.515625 \nQ 57.328125 34.859375 57.328125 23.390625 \nQ 57.328125 12.15625 50.6875 5.359375 \nQ 44.046875 -1.421875 33.015625 -1.421875 \nQ 20.359375 -1.421875 13.671875 8.265625 \nQ 6.984375 17.96875 6.984375 36.375 \nQ 6.984375 53.65625 15.1875 63.9375 \nQ 23.390625 74.21875 37.203125 74.21875 \nQ 40.921875 74.21875 44.703125 73.484375 \nQ 48.484375 72.75 52.59375 71.296875 \nz\n\" id=\"DejaVuSans-54\"/>\n       </defs>\n       <use xlink:href=\"#DejaVuSans-54\"/>\n       <use x=\"63.623047\" xlink:href=\"#DejaVuSans-53\"/>\n      </g>\n     </g>\n    </g>\n    <g id=\"ytick_2\">\n     <g id=\"line2d_8\">\n      <g>\n       <use style=\"stroke:#000000;stroke-width:0.8;\" x=\"26.925\" xlink:href=\"#m203a3258d1\" y=\"166.730397\"/>\n      </g>\n     </g>\n     <g id=\"text_8\">\n      <!-- 70 -->\n      <g transform=\"translate(7.2 170.529616)scale(0.1 -0.1)\">\n       <defs>\n        <path d=\"M 8.203125 72.90625 \nL 55.078125 72.90625 \nL 55.078125 68.703125 \nL 28.609375 0 \nL 18.3125 0 \nL 43.21875 64.59375 \nL 8.203125 64.59375 \nz\n\" id=\"DejaVuSans-55\"/>\n       </defs>\n       <use xlink:href=\"#DejaVuSans-55\"/>\n       <use x=\"63.623047\" xlink:href=\"#DejaVuSans-48\"/>\n      </g>\n     </g>\n    </g>\n    <g id=\"ytick_3\">\n     <g id=\"line2d_9\">\n      <g>\n       <use style=\"stroke:#000000;stroke-width:0.8;\" x=\"26.925\" xlink:href=\"#m203a3258d1\" y=\"130.205653\"/>\n      </g>\n     </g>\n     <g id=\"text_9\">\n      <!-- 75 -->\n      <g transform=\"translate(7.2 134.004872)scale(0.1 -0.1)\">\n       <use xlink:href=\"#DejaVuSans-55\"/>\n       <use x=\"63.623047\" xlink:href=\"#DejaVuSans-53\"/>\n      </g>\n     </g>\n    </g>\n    <g id=\"ytick_4\">\n     <g id=\"line2d_10\">\n      <g>\n       <use style=\"stroke:#000000;stroke-width:0.8;\" x=\"26.925\" xlink:href=\"#m203a3258d1\" y=\"93.680909\"/>\n      </g>\n     </g>\n     <g id=\"text_10\">\n      <!-- 80 -->\n      <g transform=\"translate(7.2 97.480128)scale(0.1 -0.1)\">\n       <defs>\n        <path d=\"M 31.78125 34.625 \nQ 24.75 34.625 20.71875 30.859375 \nQ 16.703125 27.09375 16.703125 20.515625 \nQ 16.703125 13.921875 20.71875 10.15625 \nQ 24.75 6.390625 31.78125 6.390625 \nQ 38.8125 6.390625 42.859375 10.171875 \nQ 46.921875 13.96875 46.921875 20.515625 \nQ 46.921875 27.09375 42.890625 30.859375 \nQ 38.875 34.625 31.78125 34.625 \nz\nM 21.921875 38.8125 \nQ 15.578125 40.375 12.03125 44.71875 \nQ 8.5 49.078125 8.5 55.328125 \nQ 8.5 64.0625 14.71875 69.140625 \nQ 20.953125 74.21875 31.78125 74.21875 \nQ 42.671875 74.21875 48.875 69.140625 \nQ 55.078125 64.0625 55.078125 55.328125 \nQ 55.078125 49.078125 51.53125 44.71875 \nQ 48 40.375 41.703125 38.8125 \nQ 48.828125 37.15625 52.796875 32.3125 \nQ 56.78125 27.484375 56.78125 20.515625 \nQ 56.78125 9.90625 50.3125 4.234375 \nQ 43.84375 -1.421875 31.78125 -1.421875 \nQ 19.734375 -1.421875 13.25 4.234375 \nQ 6.78125 9.90625 6.78125 20.515625 \nQ 6.78125 27.484375 10.78125 32.3125 \nQ 14.796875 37.15625 21.921875 38.8125 \nz\nM 18.3125 54.390625 \nQ 18.3125 48.734375 21.84375 45.5625 \nQ 25.390625 42.390625 31.78125 42.390625 \nQ 38.140625 42.390625 41.71875 45.5625 \nQ 45.3125 48.734375 45.3125 54.390625 \nQ 45.3125 60.0625 41.71875 63.234375 \nQ 38.140625 66.40625 31.78125 66.40625 \nQ 25.390625 66.40625 21.84375 63.234375 \nQ 18.3125 60.0625 18.3125 54.390625 \nz\n\" id=\"DejaVuSans-56\"/>\n       </defs>\n       <use xlink:href=\"#DejaVuSans-56\"/>\n       <use x=\"63.623047\" xlink:href=\"#DejaVuSans-48\"/>\n      </g>\n     </g>\n    </g>\n    <g id=\"ytick_5\">\n     <g id=\"line2d_11\">\n      <g>\n       <use style=\"stroke:#000000;stroke-width:0.8;\" x=\"26.925\" xlink:href=\"#m203a3258d1\" y=\"57.156166\"/>\n      </g>\n     </g>\n     <g id=\"text_11\">\n      <!-- 85 -->\n      <g transform=\"translate(7.2 60.955384)scale(0.1 -0.1)\">\n       <use xlink:href=\"#DejaVuSans-56\"/>\n       <use x=\"63.623047\" xlink:href=\"#DejaVuSans-53\"/>\n      </g>\n     </g>\n    </g>\n    <g id=\"ytick_6\">\n     <g id=\"line2d_12\">\n      <g>\n       <use style=\"stroke:#000000;stroke-width:0.8;\" x=\"26.925\" xlink:href=\"#m203a3258d1\" y=\"20.631422\"/>\n      </g>\n     </g>\n     <g id=\"text_12\">\n      <!-- 90 -->\n      <g transform=\"translate(7.2 24.430641)scale(0.1 -0.1)\">\n       <defs>\n        <path d=\"M 10.984375 1.515625 \nL 10.984375 10.5 \nQ 14.703125 8.734375 18.5 7.8125 \nQ 22.3125 6.890625 25.984375 6.890625 \nQ 35.75 6.890625 40.890625 13.453125 \nQ 46.046875 20.015625 46.78125 33.40625 \nQ 43.953125 29.203125 39.59375 26.953125 \nQ 35.25 24.703125 29.984375 24.703125 \nQ 19.046875 24.703125 12.671875 31.3125 \nQ 6.296875 37.9375 6.296875 49.421875 \nQ 6.296875 60.640625 12.9375 67.421875 \nQ 19.578125 74.21875 30.609375 74.21875 \nQ 43.265625 74.21875 49.921875 64.515625 \nQ 56.59375 54.828125 56.59375 36.375 \nQ 56.59375 19.140625 48.40625 8.859375 \nQ 40.234375 -1.421875 26.421875 -1.421875 \nQ 22.703125 -1.421875 18.890625 -0.6875 \nQ 15.09375 0.046875 10.984375 1.515625 \nz\nM 30.609375 32.421875 \nQ 37.25 32.421875 41.125 36.953125 \nQ 45.015625 41.5 45.015625 49.421875 \nQ 45.015625 57.28125 41.125 61.84375 \nQ 37.25 66.40625 30.609375 66.40625 \nQ 23.96875 66.40625 20.09375 61.84375 \nQ 16.21875 57.28125 16.21875 49.421875 \nQ 16.21875 41.5 20.09375 36.953125 \nQ 23.96875 32.421875 30.609375 32.421875 \nz\n\" id=\"DejaVuSans-57\"/>\n       </defs>\n       <use xlink:href=\"#DejaVuSans-57\"/>\n       <use x=\"63.623047\" xlink:href=\"#DejaVuSans-48\"/>\n      </g>\n     </g>\n    </g>\n   </g>\n   <g id=\"line2d_13\">\n    <path clip-path=\"url(#p831231d6fb)\" d=\"M 42.143182 214.756364 \nL 48.354685 150.343699 \nL 54.566187 124.971215 \nL 60.77769 105.196673 \nL 66.989193 87.385044 \nL 73.200696 76.334564 \nL 79.412199 69.064512 \nL 85.623701 62.230662 \nL 91.835204 57.359727 \nL 98.046707 53.143097 \nL 104.25821 48.05406 \nL 110.469712 45.582242 \nL 116.681215 43.255825 \nL 122.892718 41.292911 \nL 129.104221 37.875986 \nL 135.315724 36.203874 \nL 141.527226 35.404169 \nL 147.738729 34.386361 \nL 153.950232 32.568848 \nL 160.161735 32.714249 \nL 166.373237 30.969437 \nL 172.58474 31.042137 \nL 178.796243 30.824036 \nL 185.007746 29.297325 \nL 191.219249 29.151924 \nL 197.430751 28.134116 \nL 203.642254 27.043608 \nL 209.853757 27.116309 \nL 216.06526 26.970908 \nL 222.276763 26.171202 \nL 228.488265 26.316603 \nL 234.699768 25.662298 \nL 240.911271 24.49909 \nL 247.122774 23.045079 \nL 253.334276 22.754277 \nL 259.545779 23.481283 \nL 265.757282 22.172673 \nL 271.968785 21.445668 \nL 278.180288 21.591069 \nL 284.39179 21.227566 \nL 290.603293 20.791363 \nL 296.814796 20.718663 \nL 303.026299 19.555454 \nL 309.237801 19.337353 \nL 315.449304 19.264652 \nL 321.660807 19.410053 \nL 327.87231 18.537647 \nL 334.083813 17.59254 \nL 340.295315 17.156337 \nL 346.506818 17.083636 \n\" style=\"fill:none;stroke:#1f77b4;stroke-linecap:square;stroke-width:1.5;\"/>\n   </g>\n   <g id=\"patch_3\">\n    <path d=\"M 26.925 224.64 \nL 26.925 7.2 \n\" style=\"fill:none;stroke:#000000;stroke-linecap:square;stroke-linejoin:miter;stroke-width:0.8;\"/>\n   </g>\n   <g id=\"patch_4\">\n    <path d=\"M 361.725 224.64 \nL 361.725 7.2 \n\" style=\"fill:none;stroke:#000000;stroke-linecap:square;stroke-linejoin:miter;stroke-width:0.8;\"/>\n   </g>\n   <g id=\"patch_5\">\n    <path d=\"M 26.925 224.64 \nL 361.725 224.64 \n\" style=\"fill:none;stroke:#000000;stroke-linecap:square;stroke-linejoin:miter;stroke-width:0.8;\"/>\n   </g>\n   <g id=\"patch_6\">\n    <path d=\"M 26.925 7.2 \nL 361.725 7.2 \n\" style=\"fill:none;stroke:#000000;stroke-linecap:square;stroke-linejoin:miter;stroke-width:0.8;\"/>\n   </g>\n  </g>\n </g>\n <defs>\n  <clipPath id=\"p831231d6fb\">\n   <rect height=\"217.44\" width=\"334.8\" x=\"26.925\" y=\"7.2\"/>\n  </clipPath>\n </defs>\n</svg>\n",
      "image/png": "[encoded data removed]"
     },
     "metadata": {
      "needs_background": "light"
     }
    }
   ],
   "source": [
    "plt.plot([x['val_acc'] for x in history])\n",
    "plt.show()"
   ]
  },
  {
   "cell_type": "code",
   "execution_count": 20,
   "metadata": {},
   "outputs": [
    {
     "output_type": "execute_result",
     "data": {
      "text/plain": "[{'val_loss': tensor(2.1101, grad_fn=<DivBackward0>),\n  'val_acc': 63.42555732484077},\n {'val_loss': tensor(1.8797, grad_fn=<DivBackward0>),\n  'val_acc': 72.24323248407643},\n {'val_loss': tensor(1.6066, grad_fn=<DivBackward0>),\n  'val_acc': 75.71656050955414},\n {'val_loss': tensor(1.3402, grad_fn=<DivBackward0>),\n  'val_acc': 78.42356687898089},\n {'val_loss': tensor(1.1233, grad_fn=<DivBackward0>),\n  'val_acc': 80.86186305732484},\n {'val_loss': tensor(0.9647, grad_fn=<DivBackward0>),\n  'val_acc': 82.37460191082802},\n {'val_loss': tensor(0.8501, grad_fn=<DivBackward0>),\n  'val_acc': 83.36982484076434},\n {'val_loss': tensor(0.7653, grad_fn=<DivBackward0>),\n  'val_acc': 84.30533439490446},\n {'val_loss': tensor(0.7025, grad_fn=<DivBackward0>),\n  'val_acc': 84.97213375796179},\n {'val_loss': tensor(0.6530, grad_fn=<DivBackward0>),\n  'val_acc': 85.54936305732484},\n {'val_loss': tensor(0.6129, grad_fn=<DivBackward0>),\n  'val_acc': 86.24601910828025},\n {'val_loss': tensor(0.5809, grad_fn=<DivBackward0>),\n  'val_acc': 86.5843949044586},\n {'val_loss': tensor(0.5574, grad_fn=<DivBackward0>),\n  'val_acc': 86.90286624203821},\n {'val_loss': tensor(0.5339, grad_fn=<DivBackward0>),\n  'val_acc': 87.17157643312102},\n {'val_loss': tensor(0.5136, grad_fn=<DivBackward0>),\n  'val_acc': 87.63933121019109},\n {'val_loss': tensor(0.4985, grad_fn=<DivBackward0>),\n  'val_acc': 87.86823248407643},\n {'val_loss': tensor(0.4837, grad_fn=<DivBackward0>),\n  'val_acc': 87.97770700636943},\n {'val_loss': tensor(0.4710, grad_fn=<DivBackward0>),\n  'val_acc': 88.11703821656052},\n {'val_loss': tensor(0.4595, grad_fn=<DivBackward0>),\n  'val_acc': 88.36584394904459},\n {'val_loss': tensor(0.4499, grad_fn=<DivBackward0>),\n  'val_acc': 88.34593949044586},\n {'val_loss': tensor(0.4421, grad_fn=<DivBackward0>),\n  'val_acc': 88.58479299363057},\n {'val_loss': tensor(0.4326, grad_fn=<DivBackward0>),\n  'val_acc': 88.57484076433121},\n {'val_loss': tensor(0.4259, grad_fn=<DivBackward0>),\n  'val_acc': 88.6046974522293},\n {'val_loss': tensor(0.4171, grad_fn=<DivBackward0>),\n  'val_acc': 88.81369426751593},\n {'val_loss': tensor(0.4112, grad_fn=<DivBackward0>),\n  'val_acc': 88.83359872611464},\n {'val_loss': tensor(0.4059, grad_fn=<DivBackward0>),\n  'val_acc': 88.97292993630573},\n {'val_loss': tensor(0.4003, grad_fn=<DivBackward0>),\n  'val_acc': 89.12221337579618},\n {'val_loss': tensor(0.3962, grad_fn=<DivBackward0>),\n  'val_acc': 89.11226114649682},\n {'val_loss': tensor(0.3906, grad_fn=<DivBackward0>),\n  'val_acc': 89.13216560509554},\n {'val_loss': tensor(0.3875, grad_fn=<DivBackward0>),\n  'val_acc': 89.24164012738854},\n {'val_loss': tensor(0.3824, grad_fn=<DivBackward0>),\n  'val_acc': 89.2217356687898},\n {'val_loss': tensor(0.3805, grad_fn=<DivBackward0>),\n  'val_acc': 89.31130573248407},\n {'val_loss': tensor(0.3755, grad_fn=<DivBackward0>),\n  'val_acc': 89.47054140127389},\n {'val_loss': tensor(0.3720, grad_fn=<DivBackward0>),\n  'val_acc': 89.66958598726114},\n {'val_loss': tensor(0.3685, grad_fn=<DivBackward0>),\n  'val_acc': 89.7093949044586},\n {'val_loss': tensor(0.3674, grad_fn=<DivBackward0>),\n  'val_acc': 89.60987261146497},\n {'val_loss': tensor(0.3637, grad_fn=<DivBackward0>),\n  'val_acc': 89.7890127388535},\n {'val_loss': tensor(0.3594, grad_fn=<DivBackward0>),\n  'val_acc': 89.88853503184713},\n {'val_loss': tensor(0.3583, grad_fn=<DivBackward0>),\n  'val_acc': 89.86863057324841},\n {'val_loss': tensor(0.3566, grad_fn=<DivBackward0>),\n  'val_acc': 89.91839171974522},\n {'val_loss': tensor(0.3522, grad_fn=<DivBackward0>),\n  'val_acc': 89.9781050955414},\n {'val_loss': tensor(0.3521, grad_fn=<DivBackward0>),\n  'val_acc': 89.98805732484077},\n {'val_loss': tensor(0.3473, grad_fn=<DivBackward0>),\n  'val_acc': 90.14729299363057},\n {'val_loss': tensor(0.3454, grad_fn=<DivBackward0>),\n  'val_acc': 90.17714968152866},\n {'val_loss': tensor(0.3446, grad_fn=<DivBackward0>),\n  'val_acc': 90.18710191082802},\n {'val_loss': tensor(0.3419, grad_fn=<DivBackward0>),\n  'val_acc': 90.1671974522293},\n {'val_loss': tensor(0.3407, grad_fn=<DivBackward0>),\n  'val_acc': 90.28662420382166},\n {'val_loss': tensor(0.3375, grad_fn=<DivBackward0>),\n  'val_acc': 90.41600318471338},\n {'val_loss': tensor(0.3345, grad_fn=<DivBackward0>),\n  'val_acc': 90.47571656050955},\n {'val_loss': tensor(0.3328, grad_fn=<DivBackward0>),\n  'val_acc': 90.48566878980891}]"
     },
     "metadata": {},
     "execution_count": 20
    }
   ],
   "source": [
    "history"
   ]
  },
  {
   "cell_type": "code",
   "execution_count": 40,
   "metadata": {},
   "outputs": [],
   "source": [
    "torch.save(model.state_dict() , \"savedModels/MNIST_FeedForward.pth\")"
   ]
  },
  {
   "cell_type": "code",
   "execution_count": 10,
   "metadata": {
    "tags": []
   },
   "outputs": [
    {
     "output_type": "stream",
     "name": "stdout",
     "text": "[Parameter containing:\ntensor([[-0.0021,  0.0155, -0.0197,  ..., -0.0297, -0.0281,  0.0164],\n        [-0.0022, -0.0065, -0.0254,  ...,  0.0165,  0.0167,  0.0178],\n        [-0.0030, -0.0245, -0.0116,  ..., -0.0242, -0.0225,  0.0269],\n        ...,\n        [-0.0052, -0.0165, -0.0195,  ...,  0.0144, -0.0304, -0.0183],\n        [ 0.0188,  0.0223, -0.0153,  ..., -0.0128,  0.0242, -0.0166],\n        [ 0.0242,  0.0158,  0.0005,  ..., -0.0106,  0.0184, -0.0059]],\n       requires_grad=True), Parameter containing:\ntensor([ 3.4974e-02, -2.3049e-02,  5.5575e-02,  6.5393e-02,  3.8538e-02,\n        -4.1116e-02, -1.0240e-03,  1.8500e-02, -5.9876e-03, -2.9580e-02,\n        -6.3800e-03,  3.5538e-02,  4.3719e-02, -4.3764e-03,  2.3145e-02,\n        -1.0096e-02, -4.7295e-03, -2.3412e-03,  4.7253e-03, -4.5834e-02,\n         6.3987e-03, -2.3744e-02, -1.6357e-02, -9.5095e-03,  3.3216e-02,\n         5.9856e-02,  2.5141e-02,  6.1035e-03,  5.0497e-02,  6.3214e-02,\n         5.5985e-02,  4.9159e-02,  3.1592e-02,  2.4087e-02, -2.0434e-02,\n        -1.6022e-02, -2.8136e-02,  1.3691e-02, -3.4117e-02,  2.4309e-02,\n         2.7481e-02,  4.0991e-02,  3.0481e-02, -1.0570e-02, -3.4618e-02,\n         1.5690e-02, -8.6506e-03,  1.4723e-02,  4.3617e-02, -2.3757e-03,\n         4.5452e-03,  2.9307e-02,  2.4796e-02, -1.3381e-02, -1.8292e-02,\n         1.0398e-02, -8.4162e-03,  3.0700e-02, -2.3896e-03, -3.3879e-02,\n        -3.0183e-02, -3.2398e-02,  1.2253e-02,  4.2202e-02, -1.7488e-02,\n         6.8198e-03,  4.4309e-02,  2.9028e-02,  1.7445e-02, -8.7890e-03,\n        -5.5157e-02,  5.6262e-02,  3.1777e-02, -3.9629e-03,  3.9166e-02,\n         1.7443e-02,  1.8163e-02, -2.6934e-03, -7.1447e-03,  5.0623e-02,\n        -3.5331e-02, -2.7979e-02,  2.4757e-02,  2.1553e-02, -2.2666e-02,\n        -1.7476e-02, -2.2615e-03,  3.2494e-02, -2.8232e-03,  1.5017e-02,\n         6.1580e-02,  1.7122e-02,  3.2915e-02,  3.2139e-02,  5.2645e-02,\n        -3.0895e-03,  2.8281e-02,  1.2371e-02, -1.7616e-02,  3.3334e-03,\n         5.1620e-03, -2.1043e-03,  2.0012e-02,  3.2661e-02,  2.5190e-02,\n         8.6413e-03,  2.8539e-02, -3.1432e-02,  3.6507e-02, -1.5606e-02,\n         1.3188e-02, -3.1577e-02, -6.8144e-03,  1.3546e-03, -1.8740e-02,\n         5.9534e-02, -6.6177e-03, -2.0081e-02, -1.3246e-02, -2.9562e-03,\n         3.3300e-02,  2.4592e-02,  1.4895e-02,  2.5092e-03, -6.7021e-03,\n         8.4403e-03,  5.5962e-04,  3.3542e-02,  4.3658e-02,  3.7312e-02,\n         2.0812e-03, -7.2320e-03, -1.6763e-02,  3.5966e-03,  1.5259e-02,\n         5.5187e-03, -1.8220e-02,  3.6995e-02, -1.6935e-02,  2.6743e-02,\n        -1.9800e-02, -2.3953e-02, -1.5719e-02, -4.6171e-03, -2.0035e-02,\n         2.3060e-02,  2.2851e-02,  1.7854e-02,  3.1561e-02, -1.4197e-02,\n        -8.3391e-03,  1.2812e-02,  6.9839e-02,  1.6832e-02,  2.3722e-02,\n         3.6909e-02, -3.1531e-02,  2.5647e-02,  9.6971e-03,  2.8951e-02,\n        -3.6666e-02, -2.5387e-02, -2.5306e-02,  5.4045e-02, -1.7836e-02,\n         2.8354e-02,  2.9697e-02, -2.6979e-02,  2.9988e-02,  3.2241e-02,\n         1.6490e-04, -2.4730e-02,  3.5190e-02,  2.5049e-02, -3.0440e-02,\n        -1.1185e-03, -2.0422e-02, -2.2542e-02,  4.4208e-02, -1.5603e-04,\n         3.1525e-03,  4.8122e-02,  5.1739e-02,  1.7538e-02,  4.7052e-02,\n         1.8246e-02,  3.9470e-02,  3.8191e-02,  1.8809e-02,  5.4609e-02,\n        -1.7648e-02, -5.6905e-02,  1.1207e-02,  1.6301e-02, -1.7946e-02,\n        -2.6378e-02,  5.5159e-02, -1.3448e-02,  2.7090e-02,  1.7583e-02,\n         3.6035e-02,  1.9783e-03,  2.0723e-02, -3.6438e-04,  1.5867e-02,\n         6.4956e-03,  2.9507e-03, -3.7690e-02,  3.2814e-03, -1.3671e-02,\n         2.6737e-02,  3.3849e-02,  3.1346e-04,  4.9833e-02, -1.2352e-02,\n         3.8603e-02,  2.0089e-02,  4.7957e-02, -3.0730e-03,  3.8262e-02,\n         2.3120e-03,  5.2407e-02,  1.1302e-02,  3.1211e-02,  2.7337e-02,\n         1.8819e-02, -5.5244e-03,  6.6055e-03,  1.8518e-03, -1.1940e-02,\n         4.8109e-03,  1.1878e-02, -3.5590e-04,  5.2615e-02, -8.4340e-03,\n        -3.2559e-02,  9.2909e-03,  1.0822e-02,  4.8973e-02,  1.5650e-02,\n         1.4943e-03,  3.4006e-02, -2.0486e-02,  2.7067e-02,  5.9770e-03,\n         2.4219e-02, -1.9036e-02,  3.4466e-02,  3.3050e-02,  2.4228e-02,\n         3.8452e-02,  4.1981e-03,  3.8304e-02, -3.6409e-02,  1.6309e-02,\n         3.8501e-02,  4.7055e-02, -6.1580e-03, -3.8236e-02,  2.9414e-02,\n         1.9436e-03,  4.4656e-03,  3.4549e-02, -1.9205e-02, -3.1014e-03,\n         6.4670e-02, -1.8133e-02, -6.6690e-03,  8.4201e-03,  2.4926e-02,\n         3.4947e-02,  1.4882e-02, -2.0163e-03,  7.6538e-04,  2.2214e-02,\n        -2.8207e-03, -6.3453e-03,  9.6880e-03, -5.1716e-02, -8.2205e-03,\n        -1.6837e-02,  1.7687e-02,  6.1160e-02, -2.0660e-03,  2.7585e-02,\n         3.2039e-02,  1.6059e-02, -1.0551e-03,  1.0103e-02,  1.8130e-02,\n         1.5885e-03, -2.1217e-02,  2.0065e-02,  5.4365e-03,  3.2544e-02,\n        -2.6009e-03, -2.7569e-02,  4.4410e-02,  5.3202e-02, -3.0720e-02,\n         4.8485e-03,  3.1290e-02,  1.1750e-02, -1.6568e-02, -8.6120e-03,\n        -1.2079e-02,  1.0097e-02,  3.8540e-02,  5.9747e-03,  6.3677e-03,\n         1.1288e-02, -4.3126e-03, -9.4678e-03,  1.3582e-02, -3.4874e-02,\n         2.1343e-02, -8.9622e-03, -2.7936e-02,  4.5860e-02,  3.6107e-02,\n         3.8009e-02, -2.5074e-02,  5.0707e-02,  6.0878e-03,  3.2131e-02,\n         3.1149e-04,  9.2618e-04,  2.2901e-02, -3.3119e-02,  1.2021e-02,\n         1.0684e-02,  5.2493e-02,  2.9301e-02,  2.8188e-02, -4.7287e-03,\n        -1.2812e-02, -1.0083e-02,  5.5823e-03, -1.8890e-02, -1.7256e-02,\n         3.2253e-02,  2.6142e-02,  1.0225e-02,  2.7529e-02,  1.8288e-02,\n         2.7887e-03, -2.5627e-02,  2.3454e-02, -5.4630e-02,  3.4366e-02,\n         4.4982e-02,  3.2030e-02, -2.1346e-02, -1.4048e-02,  2.8486e-02,\n         7.9683e-03, -9.0199e-03, -1.3294e-02,  5.8131e-02, -1.7474e-02,\n        -1.3776e-02,  3.7625e-02,  1.8825e-03, -6.1925e-03, -1.1609e-03,\n         3.7955e-02,  1.9992e-03,  3.4702e-02, -1.4635e-02,  3.3668e-03,\n        -1.1614e-02,  4.4663e-02,  6.2647e-03,  1.4887e-02,  2.8604e-02,\n         3.8293e-02,  4.2778e-02,  3.5532e-02, -2.6780e-02, -7.4645e-03,\n        -1.2045e-02,  3.4074e-02,  3.5725e-02,  1.0971e-02,  1.4579e-02,\n        -1.0920e-02,  3.8165e-02,  4.0989e-02,  2.2941e-02,  3.3689e-02,\n        -1.9175e-02, -1.3905e-02, -1.1455e-02, -3.8650e-03,  2.7323e-02,\n        -1.2706e-02,  5.3475e-02,  5.2866e-02,  1.2478e-02, -3.4338e-02,\n         1.2459e-02,  4.1567e-02,  9.2302e-03,  2.9144e-03,  1.5207e-02,\n         1.2562e-02,  5.1190e-03,  5.0418e-02,  3.8401e-02,  2.9850e-02,\n        -8.3533e-03,  4.5043e-03, -1.2695e-02, -4.9276e-03,  1.9483e-02,\n         3.4394e-02,  4.5773e-02, -1.5384e-02, -3.1791e-02, -9.6033e-03,\n         4.9054e-03,  3.8293e-02,  2.0287e-02,  2.2265e-02,  3.9129e-02,\n        -3.6322e-02, -1.4272e-02,  5.5791e-03,  3.4726e-02,  4.7042e-02,\n         3.9205e-03,  2.0192e-03,  5.4412e-03,  6.6504e-02,  1.1862e-02,\n         3.6115e-02, -9.1170e-03, -1.1313e-02, -3.2102e-02,  1.8424e-02,\n         1.5416e-02,  2.9758e-02,  2.6619e-02,  9.0194e-03, -2.7020e-02,\n         1.7422e-02, -2.6768e-03,  3.1196e-02,  5.0805e-02,  3.0185e-02,\n        -2.1034e-03,  3.0821e-02,  3.1846e-02,  5.9731e-03,  1.7443e-02,\n         3.5356e-02, -3.0353e-02,  2.5632e-02, -3.1420e-03,  1.2685e-02,\n         5.4719e-02,  1.9515e-02, -1.0344e-02,  4.0997e-02,  2.6898e-02,\n        -2.1591e-02,  2.1970e-03,  1.4842e-02, -1.9110e-02,  6.1078e-02,\n         3.0651e-02,  8.5856e-03, -4.1869e-03,  1.7714e-02,  6.6795e-03,\n         1.6297e-02, -6.2045e-03, -2.3869e-02, -1.7755e-02,  1.7890e-02,\n         9.7795e-03,  8.5966e-05, -3.0395e-02,  4.7200e-02,  1.3067e-02,\n         1.9340e-02,  2.1331e-02,  6.1007e-02, -2.0031e-02, -2.8578e-02,\n        -2.2357e-02,  6.9255e-03, -1.5928e-02,  3.6401e-02, -1.6870e-02,\n         1.5182e-02,  1.0539e-02, -1.2071e-03,  7.2895e-05, -2.8534e-03,\n         2.8127e-02,  2.1414e-02, -1.8717e-02,  1.5760e-02,  4.4476e-02,\n         2.9315e-02,  4.0858e-02,  2.8534e-02, -2.0956e-02, -1.1305e-02,\n         4.5892e-02, -2.0631e-02], requires_grad=True), Parameter containing:\ntensor([[-0.0494, -0.0534,  0.0375,  ...,  0.0746, -0.0179, -0.0399],\n        [ 0.0843, -0.0122, -0.1497,  ..., -0.0264, -0.0250,  0.0307],\n        [ 0.0248,  0.1539, -0.0181,  ..., -0.0609, -0.0014, -0.0005],\n        ...,\n        [ 0.0005,  0.0810,  0.2104,  ...,  0.0097,  0.0900,  0.0275],\n        [-0.0544,  0.0485, -0.0207,  ..., -0.0137, -0.0154,  0.0015],\n        [-0.0248, -0.0689,  0.0488,  ...,  0.0190, -0.0117, -0.0422]],\n       requires_grad=True), Parameter containing:\ntensor([-0.1256,  0.1553, -0.0033, -0.0256,  0.0253,  0.1498,  0.0211,  0.0792,\n        -0.2470,  0.0195], requires_grad=True)]\n"
    }
   ],
   "source": [
    "model = MNISTModel()\n",
    "trained_params = torch.load('savedModels/MNIST_FeedForward.pth')\n",
    "model.load_state_dict(trained_params)\n",
    "print(list(model.parameters()))"
   ]
  },
  {
   "cell_type": "code",
   "execution_count": 14,
   "metadata": {
    "tags": []
   },
   "outputs": [
    {
     "output_type": "stream",
     "name": "stdout",
     "text": "9\n"
    },
    {
     "output_type": "execute_result",
     "data": {
      "text/plain": "torch.Size([1, 28, 28])"
     },
     "metadata": {},
     "execution_count": 14
    },
    {
     "output_type": "display_data",
     "data": {
      "text/plain": "<Figure size 432x288 with 1 Axes>",
      "image/svg+xml": "<?xml version=\"1.0\" encoding=\"utf-8\" standalone=\"no\"?>\n<!DOCTYPE svg PUBLIC \"-//W3C//DTD SVG 1.1//EN\"\n  \"http://www.w3.org/Graphics/SVG/1.1/DTD/svg11.dtd\">\n<!-- Created with matplotlib (https://matplotlib.org/) -->\n<svg height=\"248.518125pt\" version=\"1.1\" viewBox=\"0 0 251.565 248.518125\" width=\"251.565pt\" xmlns=\"http://www.w3.org/2000/svg\" xmlns:xlink=\"http://www.w3.org/1999/xlink\">\n <metadata>\n  <rdf:RDF xmlns:cc=\"http://creativecommons.org/ns#\" xmlns:dc=\"http://purl.org/dc/elements/1.1/\" xmlns:rdf=\"http://www.w3.org/1999/02/22-rdf-syntax-ns#\">\n   <cc:Work>\n    <dc:type rdf:resource=\"http://purl.org/dc/dcmitype/StillImage\"/>\n    <dc:date>2020-09-11T13:51:15.379852</dc:date>\n    <dc:format>image/svg+xml</dc:format>\n    <dc:creator>\n     <cc:Agent>\n      <dc:title>Matplotlib v3.3.1, https://matplotlib.org/</dc:title>\n     </cc:Agent>\n    </dc:creator>\n   </cc:Work>\n  </rdf:RDF>\n </metadata>\n <defs>\n  <style type=\"text/css\">*{stroke-linecap:butt;stroke-linejoin:round;}</style>\n </defs>\n <g id=\"figure_1\">\n  <g id=\"patch_1\">\n   <path d=\"M 0 248.518125 \nL 251.565 248.518125 \nL 251.565 0 \nL 0 0 \nz\n\" style=\"fill:none;\"/>\n  </g>\n  <g id=\"axes_1\">\n   <g id=\"patch_2\">\n    <path d=\"M 26.925 224.64 \nL 244.365 224.64 \nL 244.365 7.2 \nL 26.925 7.2 \nz\n\" style=\"fill:#ffffff;\"/>\n   </g>\n   <g clip-path=\"url(#p506cddc164)\">\n    <image height=\"218\" id=\"imageb106ae1248\" transform=\"scale(1 -1)translate(0 -218)\" width=\"218\" x=\"26.925\" xlink:href=\"data:image/png;base64,\niVBORw0KGgoAAAANSUhEUgAAANoAAADaCAYAAADAHVzbAAAE7klEQVR4nO3dv0tXexzH8WPcyU0QBCcHUQrEwaDaXBoKoR+roIFDY0GEgwg5in9EJI4O7SGkEDXkmlAN4mAgguAfkHe6w4V73t6+8n356/FYX5xvB+LpB76Hoz1N05w0QFfdOO8bgOtAaBAgNAgQGgQIDQKEBgFCgwChQYDQIEBoECA0CBAaBAgNAoQGAUKDgL/O+wauo5GRkXLf2toq993d3XK/e/fun94SXeZEgwChQYDQIEBoECA0CBAaBPh6/xwMDQ2Ve39//5l2Lh4nGgQIDQKEBgFCgwChQYDQIEBoECA0CBAaBAgNAoQGAUKDAKFBgNAgQGgQ4H20K+jWrVvl/u3bt9Cd8A8nGgQIDQKEBgFCgwChQYDQIEBoEOA52jnY3Nws952dnXI/7TnZw4cPy91ztDwnGgQIDQKEBgFCgwChQYDQIEBoENDTNM3Jed8E//bp06dyv3PnTrkfHByU++Dg4B/fE2fjRIMAoUGA0CBAaBAgNAgQGgT4ev8CmpqaKvf19fVyPz4+LvfR0dHW7ejoqLyWzjjRIEBoECA0CBAaBAgNAoQGAUKDAM/RLqH9/f1yHxgYKPfZ2dnWbW1traN7ouZEgwChQYDQIEBoECA0CBAaBAgNAvzZpktodXW13F+/fh26E/4vJxoECA0ChAYBQoMAoUGA0CBAaBDgOdoldHh4WO43btQ/P58/f966eR+tO5xoECA0CBAaBAgNAoQGAUKDAF/vd8ng4GDr9uLFizN99u3bt8v99+/f5X7v3r3W7f79++W1Hz58KHf+mxMNAoQGAUKDAKFBgNAgQGgQIDQI8BytS2ZmZlq3V69eBe+Ei8CJBgFCgwChQYDQIEBoECA0CBAaBHiO1iU3b97s+NrPnz+Xe39/f7mPjIx0/G8/ffq03L2P1hknGgQIDQKEBgFCgwChQYDQIEBoEOA52gX05cuXcl9ZWSn3jY2Ncq+e8VW/87Fpmqavr6/cj46Oyv26cqJBgNAgQGgQIDQIEBoECA0ChAYBnqN1SU9PT0db0zTN5ORkub9586bcHz16VO4/fvxo3cbGxsprHz9+XO5v374t9+vKiQYBQoMAoUGA0CBAaBAgNAjoaZrm5Lxv4ioaHx9v3ba3t8/02cPDw+W+u7tb7u/evWvdpqeny2vX1tbK/dmzZ+V+XTnRIEBoECA0CBAaBAgNAoQGAUKDAK/JdMne3l7r9vHjx/La016TWVxcLPe5ublyf//+fet22is2dMaJBgFCgwChQYDQIEBoECA0CBAaBHiO1iXVny+an58vrz3tzy7Nzs6W+8+fP8v969evrdv379/La+mMEw0ChAYBQoMAoUGA0CBAaBAgNAjwex0voCdPnpT76upquff29pb7yUnn/+ULCwvlvry83PFnX2VONAgQGgQIDQKEBgFCgwChQYDQIMBztEvowYMH5b60tFTuExMTrdv6+np57cuXL8v9169f5X5dOdEgQGgQIDQIEBoECA0ChAYBvt6HACcaBAgNAoQGAUKDAKFBgNAgQGgQIDQIEBoECA0ChAYBQoMAoUGA0CBAaBAgNAgQGgQIDQKEBgFCgwChQYDQIEBoECA0CBAaBAgNAoQGAUKDAKFBgNAgQGgQIDQIEBoECA0ChAYBQoMAoUGA0CBAaBAgNAgQGgQIDQKEBgFCgwChQYDQIOBv/n2YHuLA5BgAAAAASUVORK5CYII=\" y=\"-6.64\"/>\n   </g>\n   <g id=\"matplotlib.axis_1\">\n    <g id=\"xtick_1\">\n     <g id=\"line2d_1\">\n      <defs>\n       <path d=\"M 0 0 \nL 0 3.5 \n\" id=\"m0705aa2db3\" style=\"stroke:#000000;stroke-width:0.8;\"/>\n      </defs>\n      <g>\n       <use style=\"stroke:#000000;stroke-width:0.8;\" x=\"30.807857\" xlink:href=\"#m0705aa2db3\" y=\"224.64\"/>\n      </g>\n     </g>\n     <g id=\"text_1\">\n      <!-- 0 -->\n      <g transform=\"translate(27.626607 239.238437)scale(0.1 -0.1)\">\n       <defs>\n        <path d=\"M 31.78125 66.40625 \nQ 24.171875 66.40625 20.328125 58.90625 \nQ 16.5 51.421875 16.5 36.375 \nQ 16.5 21.390625 20.328125 13.890625 \nQ 24.171875 6.390625 31.78125 6.390625 \nQ 39.453125 6.390625 43.28125 13.890625 \nQ 47.125 21.390625 47.125 36.375 \nQ 47.125 51.421875 43.28125 58.90625 \nQ 39.453125 66.40625 31.78125 66.40625 \nz\nM 31.78125 74.21875 \nQ 44.046875 74.21875 50.515625 64.515625 \nQ 56.984375 54.828125 56.984375 36.375 \nQ 56.984375 17.96875 50.515625 8.265625 \nQ 44.046875 -1.421875 31.78125 -1.421875 \nQ 19.53125 -1.421875 13.0625 8.265625 \nQ 6.59375 17.96875 6.59375 36.375 \nQ 6.59375 54.828125 13.0625 64.515625 \nQ 19.53125 74.21875 31.78125 74.21875 \nz\n\" id=\"DejaVuSans-48\"/>\n       </defs>\n       <use xlink:href=\"#DejaVuSans-48\"/>\n      </g>\n     </g>\n    </g>\n    <g id=\"xtick_2\">\n     <g id=\"line2d_2\">\n      <g>\n       <use style=\"stroke:#000000;stroke-width:0.8;\" x=\"69.636429\" xlink:href=\"#m0705aa2db3\" y=\"224.64\"/>\n      </g>\n     </g>\n     <g id=\"text_2\">\n      <!-- 5 -->\n      <g transform=\"translate(66.455179 239.238437)scale(0.1 -0.1)\">\n       <defs>\n        <path d=\"M 10.796875 72.90625 \nL 49.515625 72.90625 \nL 49.515625 64.59375 \nL 19.828125 64.59375 \nL 19.828125 46.734375 \nQ 21.96875 47.46875 24.109375 47.828125 \nQ 26.265625 48.1875 28.421875 48.1875 \nQ 40.625 48.1875 47.75 41.5 \nQ 54.890625 34.8125 54.890625 23.390625 \nQ 54.890625 11.625 47.5625 5.09375 \nQ 40.234375 -1.421875 26.90625 -1.421875 \nQ 22.3125 -1.421875 17.546875 -0.640625 \nQ 12.796875 0.140625 7.71875 1.703125 \nL 7.71875 11.625 \nQ 12.109375 9.234375 16.796875 8.0625 \nQ 21.484375 6.890625 26.703125 6.890625 \nQ 35.15625 6.890625 40.078125 11.328125 \nQ 45.015625 15.765625 45.015625 23.390625 \nQ 45.015625 31 40.078125 35.4375 \nQ 35.15625 39.890625 26.703125 39.890625 \nQ 22.75 39.890625 18.8125 39.015625 \nQ 14.890625 38.140625 10.796875 36.28125 \nz\n\" id=\"DejaVuSans-53\"/>\n       </defs>\n       <use xlink:href=\"#DejaVuSans-53\"/>\n      </g>\n     </g>\n    </g>\n    <g id=\"xtick_3\">\n     <g id=\"line2d_3\">\n      <g>\n       <use style=\"stroke:#000000;stroke-width:0.8;\" x=\"108.465\" xlink:href=\"#m0705aa2db3\" y=\"224.64\"/>\n      </g>\n     </g>\n     <g id=\"text_3\">\n      <!-- 10 -->\n      <g transform=\"translate(102.1025 239.238437)scale(0.1 -0.1)\">\n       <defs>\n        <path d=\"M 12.40625 8.296875 \nL 28.515625 8.296875 \nL 28.515625 63.921875 \nL 10.984375 60.40625 \nL 10.984375 69.390625 \nL 28.421875 72.90625 \nL 38.28125 72.90625 \nL 38.28125 8.296875 \nL 54.390625 8.296875 \nL 54.390625 0 \nL 12.40625 0 \nz\n\" id=\"DejaVuSans-49\"/>\n       </defs>\n       <use xlink:href=\"#DejaVuSans-49\"/>\n       <use x=\"63.623047\" xlink:href=\"#DejaVuSans-48\"/>\n      </g>\n     </g>\n    </g>\n    <g id=\"xtick_4\">\n     <g id=\"line2d_4\">\n      <g>\n       <use style=\"stroke:#000000;stroke-width:0.8;\" x=\"147.293571\" xlink:href=\"#m0705aa2db3\" y=\"224.64\"/>\n      </g>\n     </g>\n     <g id=\"text_4\">\n      <!-- 15 -->\n      <g transform=\"translate(140.931071 239.238437)scale(0.1 -0.1)\">\n       <use xlink:href=\"#DejaVuSans-49\"/>\n       <use x=\"63.623047\" xlink:href=\"#DejaVuSans-53\"/>\n      </g>\n     </g>\n    </g>\n    <g id=\"xtick_5\">\n     <g id=\"line2d_5\">\n      <g>\n       <use style=\"stroke:#000000;stroke-width:0.8;\" x=\"186.122143\" xlink:href=\"#m0705aa2db3\" y=\"224.64\"/>\n      </g>\n     </g>\n     <g id=\"text_5\">\n      <!-- 20 -->\n      <g transform=\"translate(179.759643 239.238437)scale(0.1 -0.1)\">\n       <defs>\n        <path d=\"M 19.1875 8.296875 \nL 53.609375 8.296875 \nL 53.609375 0 \nL 7.328125 0 \nL 7.328125 8.296875 \nQ 12.9375 14.109375 22.625 23.890625 \nQ 32.328125 33.6875 34.8125 36.53125 \nQ 39.546875 41.84375 41.421875 45.53125 \nQ 43.3125 49.21875 43.3125 52.78125 \nQ 43.3125 58.59375 39.234375 62.25 \nQ 35.15625 65.921875 28.609375 65.921875 \nQ 23.96875 65.921875 18.8125 64.3125 \nQ 13.671875 62.703125 7.8125 59.421875 \nL 7.8125 69.390625 \nQ 13.765625 71.78125 18.9375 73 \nQ 24.125 74.21875 28.421875 74.21875 \nQ 39.75 74.21875 46.484375 68.546875 \nQ 53.21875 62.890625 53.21875 53.421875 \nQ 53.21875 48.921875 51.53125 44.890625 \nQ 49.859375 40.875 45.40625 35.40625 \nQ 44.1875 33.984375 37.640625 27.21875 \nQ 31.109375 20.453125 19.1875 8.296875 \nz\n\" id=\"DejaVuSans-50\"/>\n       </defs>\n       <use xlink:href=\"#DejaVuSans-50\"/>\n       <use x=\"63.623047\" xlink:href=\"#DejaVuSans-48\"/>\n      </g>\n     </g>\n    </g>\n    <g id=\"xtick_6\">\n     <g id=\"line2d_6\">\n      <g>\n       <use style=\"stroke:#000000;stroke-width:0.8;\" x=\"224.950714\" xlink:href=\"#m0705aa2db3\" y=\"224.64\"/>\n      </g>\n     </g>\n     <g id=\"text_6\">\n      <!-- 25 -->\n      <g transform=\"translate(218.588214 239.238437)scale(0.1 -0.1)\">\n       <use xlink:href=\"#DejaVuSans-50\"/>\n       <use x=\"63.623047\" xlink:href=\"#DejaVuSans-53\"/>\n      </g>\n     </g>\n    </g>\n   </g>\n   <g id=\"matplotlib.axis_2\">\n    <g id=\"ytick_1\">\n     <g id=\"line2d_7\">\n      <defs>\n       <path d=\"M 0 0 \nL -3.5 0 \n\" id=\"m3a2b7112b7\" style=\"stroke:#000000;stroke-width:0.8;\"/>\n      </defs>\n      <g>\n       <use style=\"stroke:#000000;stroke-width:0.8;\" x=\"26.925\" xlink:href=\"#m3a2b7112b7\" y=\"11.082857\"/>\n      </g>\n     </g>\n     <g id=\"text_7\">\n      <!-- 0 -->\n      <g transform=\"translate(13.5625 14.882076)scale(0.1 -0.1)\">\n       <use xlink:href=\"#DejaVuSans-48\"/>\n      </g>\n     </g>\n    </g>\n    <g id=\"ytick_2\">\n     <g id=\"line2d_8\">\n      <g>\n       <use style=\"stroke:#000000;stroke-width:0.8;\" x=\"26.925\" xlink:href=\"#m3a2b7112b7\" y=\"49.911429\"/>\n      </g>\n     </g>\n     <g id=\"text_8\">\n      <!-- 5 -->\n      <g transform=\"translate(13.5625 53.710647)scale(0.1 -0.1)\">\n       <use xlink:href=\"#DejaVuSans-53\"/>\n      </g>\n     </g>\n    </g>\n    <g id=\"ytick_3\">\n     <g id=\"line2d_9\">\n      <g>\n       <use style=\"stroke:#000000;stroke-width:0.8;\" x=\"26.925\" xlink:href=\"#m3a2b7112b7\" y=\"88.74\"/>\n      </g>\n     </g>\n     <g id=\"text_9\">\n      <!-- 10 -->\n      <g transform=\"translate(7.2 92.539219)scale(0.1 -0.1)\">\n       <use xlink:href=\"#DejaVuSans-49\"/>\n       <use x=\"63.623047\" xlink:href=\"#DejaVuSans-48\"/>\n      </g>\n     </g>\n    </g>\n    <g id=\"ytick_4\">\n     <g id=\"line2d_10\">\n      <g>\n       <use style=\"stroke:#000000;stroke-width:0.8;\" x=\"26.925\" xlink:href=\"#m3a2b7112b7\" y=\"127.568571\"/>\n      </g>\n     </g>\n     <g id=\"text_10\">\n      <!-- 15 -->\n      <g transform=\"translate(7.2 131.36779)scale(0.1 -0.1)\">\n       <use xlink:href=\"#DejaVuSans-49\"/>\n       <use x=\"63.623047\" xlink:href=\"#DejaVuSans-53\"/>\n      </g>\n     </g>\n    </g>\n    <g id=\"ytick_5\">\n     <g id=\"line2d_11\">\n      <g>\n       <use style=\"stroke:#000000;stroke-width:0.8;\" x=\"26.925\" xlink:href=\"#m3a2b7112b7\" y=\"166.397143\"/>\n      </g>\n     </g>\n     <g id=\"text_11\">\n      <!-- 20 -->\n      <g transform=\"translate(7.2 170.196362)scale(0.1 -0.1)\">\n       <use xlink:href=\"#DejaVuSans-50\"/>\n       <use x=\"63.623047\" xlink:href=\"#DejaVuSans-48\"/>\n      </g>\n     </g>\n    </g>\n    <g id=\"ytick_6\">\n     <g id=\"line2d_12\">\n      <g>\n       <use style=\"stroke:#000000;stroke-width:0.8;\" x=\"26.925\" xlink:href=\"#m3a2b7112b7\" y=\"205.225714\"/>\n      </g>\n     </g>\n     <g id=\"text_12\">\n      <!-- 25 -->\n      <g transform=\"translate(7.2 209.024933)scale(0.1 -0.1)\">\n       <use xlink:href=\"#DejaVuSans-50\"/>\n       <use x=\"63.623047\" xlink:href=\"#DejaVuSans-53\"/>\n      </g>\n     </g>\n    </g>\n   </g>\n   <g id=\"patch_3\">\n    <path d=\"M 26.925 224.64 \nL 26.925 7.2 \n\" style=\"fill:none;stroke:#000000;stroke-linecap:square;stroke-linejoin:miter;stroke-width:0.8;\"/>\n   </g>\n   <g id=\"patch_4\">\n    <path d=\"M 244.365 224.64 \nL 244.365 7.2 \n\" style=\"fill:none;stroke:#000000;stroke-linecap:square;stroke-linejoin:miter;stroke-width:0.8;\"/>\n   </g>\n   <g id=\"patch_5\">\n    <path d=\"M 26.925 224.64 \nL 244.365 224.64 \n\" style=\"fill:none;stroke:#000000;stroke-linecap:square;stroke-linejoin:miter;stroke-width:0.8;\"/>\n   </g>\n   <g id=\"patch_6\">\n    <path d=\"M 26.925 7.2 \nL 244.365 7.2 \n\" style=\"fill:none;stroke:#000000;stroke-linecap:square;stroke-linejoin:miter;stroke-width:0.8;\"/>\n   </g>\n  </g>\n </g>\n <defs>\n  <clipPath id=\"p506cddc164\">\n   <rect height=\"217.44\" width=\"217.44\" x=\"26.925\" y=\"7.2\"/>\n  </clipPath>\n </defs>\n</svg>\n",
      "image/png": "[encoded data removed]"
     },
     "metadata": {
      "needs_background": "light"
     }
    }
   ],
   "source": [
    "import matplotlib.pyplot as plt\n",
    "%matplotlib inline\n",
    "image , label = test_dataset[1439]\n",
    "print(label)\n",
    "plt.imshow(image[0,:,:] , cmap=\"gray\")\n",
    "image.shape"
   ]
  },
  {
   "cell_type": "code",
   "execution_count": 15,
   "metadata": {},
   "outputs": [
    {
     "output_type": "execute_result",
     "data": {
      "text/plain": "torch.Size([1, 1, 28, 28])"
     },
     "metadata": {},
     "execution_count": 15
    }
   ],
   "source": [
    "image.unsqueeze(0).shape"
   ]
  },
  {
   "cell_type": "code",
   "execution_count": 16,
   "metadata": {
    "tags": []
   },
   "outputs": [
    {
     "output_type": "stream",
     "name": "stdout",
     "text": "torch.Size([1, 28, 28])\n9\n"
    }
   ],
   "source": [
    "print(image.shape)\n",
    "yb = model(image)\n",
    "_ , preds = torch.max(yb , dim=1)\n",
    "print(preds.item())"
   ]
  },
  {
   "cell_type": "code",
   "execution_count": null,
   "metadata": {},
   "outputs": [],
   "source": []
  }
 ]
}